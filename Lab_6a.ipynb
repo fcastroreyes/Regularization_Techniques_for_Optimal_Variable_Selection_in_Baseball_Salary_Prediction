{
 "cells": [
  {
   "cell_type": "raw",
   "id": "b47f664d",
   "metadata": {},
   "source": [
    "---\n",
    "format:\n",
    "  html:\n",
    "    page-layout: full\n",
    "    code fold: false\n",
    "    toc: true\n",
    "    toc_float: true\n",
    "    toc-title: Table Of Contents\n",
    "    toc-location: left\n",
    "    theme: cosmo\n",
    "    self-contained: true\n",
    "---"
   ]
  },
  {
   "cell_type": "markdown",
   "id": "e71f8843",
   "metadata": {},
   "source": [
    "# Lab 6: Variable Selection and Regularization"
   ]
  },
  {
   "cell_type": "code",
   "execution_count": 59,
   "id": "84c9669d",
   "metadata": {},
   "outputs": [],
   "source": [
    "# Dependencies\n",
    "import pandas as pd\n",
    "import numpy as np\n",
    "from sklearn.pipeline import Pipeline\n",
    "from sklearn.compose import make_column_selector, ColumnTransformer\n",
    "from sklearn.preprocessing import StandardScaler, OneHotEncoder, PolynomialFeatures\n",
    "from sklearn.linear_model import LinearRegression, Ridge, Lasso, ElasticNet \n",
    "from sklearn.model_selection import train_test_split, cross_val_score\n",
    "from sklearn.metrics import r2_score, mean_squared_error\n",
    "\n",
    "from plotnine import *\n",
    "from sklearn.model_selection import GridSearchCV\n",
    "from numpy import arange"
   ]
  },
  {
   "cell_type": "code",
   "execution_count": 60,
   "id": "db2ab563",
   "metadata": {},
   "outputs": [],
   "source": [
    "hitters = pd.read_csv(\"Hitters.csv\")"
   ]
  },
  {
   "cell_type": "code",
   "execution_count": 61,
   "id": "79684aa8",
   "metadata": {},
   "outputs": [
    {
     "data": {
      "text/html": [
       "<div>\n",
       "<style scoped>\n",
       "    .dataframe tbody tr th:only-of-type {\n",
       "        vertical-align: middle;\n",
       "    }\n",
       "\n",
       "    .dataframe tbody tr th {\n",
       "        vertical-align: top;\n",
       "    }\n",
       "\n",
       "    .dataframe thead th {\n",
       "        text-align: right;\n",
       "    }\n",
       "</style>\n",
       "<table border=\"1\" class=\"dataframe\">\n",
       "  <thead>\n",
       "    <tr style=\"text-align: right;\">\n",
       "      <th></th>\n",
       "      <th>AtBat</th>\n",
       "      <th>Hits</th>\n",
       "      <th>HmRun</th>\n",
       "      <th>Runs</th>\n",
       "      <th>RBI</th>\n",
       "      <th>Walks</th>\n",
       "      <th>Years</th>\n",
       "      <th>CAtBat</th>\n",
       "      <th>CHits</th>\n",
       "      <th>CHmRun</th>\n",
       "      <th>CRuns</th>\n",
       "      <th>CRBI</th>\n",
       "      <th>CWalks</th>\n",
       "      <th>League</th>\n",
       "      <th>Division</th>\n",
       "      <th>PutOuts</th>\n",
       "      <th>Assists</th>\n",
       "      <th>Errors</th>\n",
       "      <th>Salary</th>\n",
       "      <th>NewLeague</th>\n",
       "    </tr>\n",
       "  </thead>\n",
       "  <tbody>\n",
       "    <tr>\n",
       "      <th>0</th>\n",
       "      <td>293</td>\n",
       "      <td>66</td>\n",
       "      <td>1</td>\n",
       "      <td>30</td>\n",
       "      <td>29</td>\n",
       "      <td>14</td>\n",
       "      <td>1</td>\n",
       "      <td>293</td>\n",
       "      <td>66</td>\n",
       "      <td>1</td>\n",
       "      <td>30</td>\n",
       "      <td>29</td>\n",
       "      <td>14</td>\n",
       "      <td>A</td>\n",
       "      <td>E</td>\n",
       "      <td>446</td>\n",
       "      <td>33</td>\n",
       "      <td>20</td>\n",
       "      <td>NaN</td>\n",
       "      <td>A</td>\n",
       "    </tr>\n",
       "    <tr>\n",
       "      <th>1</th>\n",
       "      <td>315</td>\n",
       "      <td>81</td>\n",
       "      <td>7</td>\n",
       "      <td>24</td>\n",
       "      <td>38</td>\n",
       "      <td>39</td>\n",
       "      <td>14</td>\n",
       "      <td>3449</td>\n",
       "      <td>835</td>\n",
       "      <td>69</td>\n",
       "      <td>321</td>\n",
       "      <td>414</td>\n",
       "      <td>375</td>\n",
       "      <td>N</td>\n",
       "      <td>W</td>\n",
       "      <td>632</td>\n",
       "      <td>43</td>\n",
       "      <td>10</td>\n",
       "      <td>475.0</td>\n",
       "      <td>N</td>\n",
       "    </tr>\n",
       "    <tr>\n",
       "      <th>2</th>\n",
       "      <td>479</td>\n",
       "      <td>130</td>\n",
       "      <td>18</td>\n",
       "      <td>66</td>\n",
       "      <td>72</td>\n",
       "      <td>76</td>\n",
       "      <td>3</td>\n",
       "      <td>1624</td>\n",
       "      <td>457</td>\n",
       "      <td>63</td>\n",
       "      <td>224</td>\n",
       "      <td>266</td>\n",
       "      <td>263</td>\n",
       "      <td>A</td>\n",
       "      <td>W</td>\n",
       "      <td>880</td>\n",
       "      <td>82</td>\n",
       "      <td>14</td>\n",
       "      <td>480.0</td>\n",
       "      <td>A</td>\n",
       "    </tr>\n",
       "    <tr>\n",
       "      <th>3</th>\n",
       "      <td>496</td>\n",
       "      <td>141</td>\n",
       "      <td>20</td>\n",
       "      <td>65</td>\n",
       "      <td>78</td>\n",
       "      <td>37</td>\n",
       "      <td>11</td>\n",
       "      <td>5628</td>\n",
       "      <td>1575</td>\n",
       "      <td>225</td>\n",
       "      <td>828</td>\n",
       "      <td>838</td>\n",
       "      <td>354</td>\n",
       "      <td>N</td>\n",
       "      <td>E</td>\n",
       "      <td>200</td>\n",
       "      <td>11</td>\n",
       "      <td>3</td>\n",
       "      <td>500.0</td>\n",
       "      <td>N</td>\n",
       "    </tr>\n",
       "    <tr>\n",
       "      <th>4</th>\n",
       "      <td>321</td>\n",
       "      <td>87</td>\n",
       "      <td>10</td>\n",
       "      <td>39</td>\n",
       "      <td>42</td>\n",
       "      <td>30</td>\n",
       "      <td>2</td>\n",
       "      <td>396</td>\n",
       "      <td>101</td>\n",
       "      <td>12</td>\n",
       "      <td>48</td>\n",
       "      <td>46</td>\n",
       "      <td>33</td>\n",
       "      <td>N</td>\n",
       "      <td>E</td>\n",
       "      <td>805</td>\n",
       "      <td>40</td>\n",
       "      <td>4</td>\n",
       "      <td>91.5</td>\n",
       "      <td>N</td>\n",
       "    </tr>\n",
       "  </tbody>\n",
       "</table>\n",
       "</div>"
      ],
      "text/plain": [
       "   AtBat  Hits  HmRun  Runs  RBI  Walks  Years  CAtBat  CHits  CHmRun  CRuns  \\\n",
       "0    293    66      1    30   29     14      1     293     66       1     30   \n",
       "1    315    81      7    24   38     39     14    3449    835      69    321   \n",
       "2    479   130     18    66   72     76      3    1624    457      63    224   \n",
       "3    496   141     20    65   78     37     11    5628   1575     225    828   \n",
       "4    321    87     10    39   42     30      2     396    101      12     48   \n",
       "\n",
       "   CRBI  CWalks League Division  PutOuts  Assists  Errors  Salary NewLeague  \n",
       "0    29      14      A        E      446       33      20     NaN         A  \n",
       "1   414     375      N        W      632       43      10   475.0         N  \n",
       "2   266     263      A        W      880       82      14   480.0         A  \n",
       "3   838     354      N        E      200       11       3   500.0         N  \n",
       "4    46      33      N        E      805       40       4    91.5         N  "
      ]
     },
     "execution_count": 61,
     "metadata": {},
     "output_type": "execute_result"
    }
   ],
   "source": [
    "hitters.head()"
   ]
  },
  {
   "cell_type": "code",
   "execution_count": 62,
   "id": "f5dc4e14",
   "metadata": {},
   "outputs": [],
   "source": [
    "#deciding to drop na values as there was only 59\n",
    "hitters = hitters.dropna()"
   ]
  },
  {
   "cell_type": "markdown",
   "id": "dfee8bbd",
   "metadata": {},
   "source": [
    "# Part I: Different Model Specs"
   ]
  },
  {
   "cell_type": "markdown",
   "id": "010a8814",
   "metadata": {},
   "source": [
    "## A. Regression without regularization\n",
    "---"
   ]
  },
  {
   "cell_type": "markdown",
   "id": "6bcac26c",
   "metadata": {},
   "source": [
    "### 1. Create a pipeline that includes all the columns as predictors for Salary, and performs ordinary linear regression"
   ]
  },
  {
   "cell_type": "code",
   "execution_count": 63,
   "id": "a96cd494",
   "metadata": {},
   "outputs": [],
   "source": [
    "# Setting up the X and Y, predicting Salary with all other variables\n",
    "X = hitters.drop([\"Salary\"], axis = 1) #note these were dropped, as order is an idex and pID is key id\n",
    "y = hitters[\"Salary\"]\n",
    "\n",
    "#Preprocessor as a column transformer that dumifies, standardizes.\n",
    "ct = ColumnTransformer(\n",
    "  [\n",
    "    (\"dummify\",\n",
    "    OneHotEncoder(sparse_output = False, handle_unknown='ignore'), # what does the handle_unkow = 'ignore' do? sparse, array, handle, ignores unknown cats to 0\n",
    "    make_column_selector(dtype_include=object)), #note the make_column_selector(dtype_include=object) will return all columns that are string objects.\n",
    "    (\"standardize\",\n",
    "    StandardScaler(),\n",
    "    make_column_selector(dtype_include=np.number)) #this one returns all columns that have numbers\n",
    "  ],\n",
    "  remainder = \"passthrough\" # we are doing this because we are keeping all the other variables\n",
    ")\n",
    "\n",
    "#putting the preprocessor and model spec in the pipeline creation\n",
    "lr_pipeline_1 = Pipeline(\n",
    "  [(\"preprocessing\", ct),\n",
    "  (\"linear_regression\", LinearRegression())]\n",
    ")"
   ]
  },
  {
   "cell_type": "markdown",
   "id": "37a5df28",
   "metadata": {},
   "source": [
    "### 2. Fit this pipeline to the full dataset, and interpret a few of the most important coefficients."
   ]
  },
  {
   "cell_type": "code",
   "execution_count": 64,
   "id": "c0357038",
   "metadata": {},
   "outputs": [
    {
     "data": {
      "text/plain": [
       "array([ -31.29971152,   31.29971152,   58.42462282,  -58.42462282,\n",
       "         12.38116255,  -12.38116255, -291.0945557 ,  337.83047948,\n",
       "         37.85383676,  -60.57247861,  -26.99498379,  135.07389695,\n",
       "        -16.69335888, -391.03865466,   86.68761664,  -14.18172332,\n",
       "        480.74713477,  260.68988581, -213.89225864,   78.76129639,\n",
       "         53.73248973,  -22.16086217])"
      ]
     },
     "execution_count": 64,
     "metadata": {},
     "output_type": "execute_result"
    }
   ],
   "source": [
    "ols_model_full = lr_pipeline_1.fit(X,y)\n",
    "ols_coef_full = ols_model_full.named_steps[\"linear_regression\"].coef_\n",
    "ols_coef_full"
   ]
  },
  {
   "cell_type": "code",
   "execution_count": 65,
   "id": "e42e4ebe",
   "metadata": {},
   "outputs": [
    {
     "data": {
      "text/html": [
       "<div>\n",
       "<style scoped>\n",
       "    .dataframe tbody tr th:only-of-type {\n",
       "        vertical-align: middle;\n",
       "    }\n",
       "\n",
       "    .dataframe tbody tr th {\n",
       "        vertical-align: top;\n",
       "    }\n",
       "\n",
       "    .dataframe thead th {\n",
       "        text-align: right;\n",
       "    }\n",
       "</style>\n",
       "<table border=\"1\" class=\"dataframe\">\n",
       "  <thead>\n",
       "    <tr style=\"text-align: right;\">\n",
       "      <th></th>\n",
       "      <th>OLS_Feature</th>\n",
       "      <th>OLS_Coefficient</th>\n",
       "      <th>Absolute_Coefficient</th>\n",
       "    </tr>\n",
       "  </thead>\n",
       "  <tbody>\n",
       "    <tr>\n",
       "      <th>16</th>\n",
       "      <td>standardize__CRuns</td>\n",
       "      <td>480.747135</td>\n",
       "      <td>480.747135</td>\n",
       "    </tr>\n",
       "    <tr>\n",
       "      <th>13</th>\n",
       "      <td>standardize__CAtBat</td>\n",
       "      <td>-391.038655</td>\n",
       "      <td>391.038655</td>\n",
       "    </tr>\n",
       "    <tr>\n",
       "      <th>7</th>\n",
       "      <td>standardize__Hits</td>\n",
       "      <td>337.830479</td>\n",
       "      <td>337.830479</td>\n",
       "    </tr>\n",
       "    <tr>\n",
       "      <th>6</th>\n",
       "      <td>standardize__AtBat</td>\n",
       "      <td>-291.094556</td>\n",
       "      <td>291.094556</td>\n",
       "    </tr>\n",
       "    <tr>\n",
       "      <th>17</th>\n",
       "      <td>standardize__CRBI</td>\n",
       "      <td>260.689886</td>\n",
       "      <td>260.689886</td>\n",
       "    </tr>\n",
       "  </tbody>\n",
       "</table>\n",
       "</div>"
      ],
      "text/plain": [
       "            OLS_Feature  OLS_Coefficient  Absolute_Coefficient\n",
       "16   standardize__CRuns       480.747135            480.747135\n",
       "13  standardize__CAtBat      -391.038655            391.038655\n",
       "7     standardize__Hits       337.830479            337.830479\n",
       "6    standardize__AtBat      -291.094556            291.094556\n",
       "17    standardize__CRBI       260.689886            260.689886"
      ]
     },
     "execution_count": 65,
     "metadata": {},
     "output_type": "execute_result"
    }
   ],
   "source": [
    "# GETTING THE FEATURES OUT\n",
    "ols_features = ct.get_feature_names_out()\n",
    "\n",
    "features_coeff = pd.DataFrame({'OLS_Feature': ols_features, 'OLS_Coefficient': ols_coef_full})\n",
    "# Add a new column 'Absolute_Coefficient' to features_coeff\n",
    "features_coeff['Absolute_Coefficient'] = features_coeff['OLS_Coefficient'].abs()\n",
    "features_coeff.sort_values(by='Absolute_Coefficient', ascending=False)[0:5]"
   ]
  },
  {
   "cell_type": "markdown",
   "id": "862d9fad",
   "metadata": {},
   "source": [
    "- The number of runs has the greatest effect on Salary here with one standard deviation unit increase in runs having a 480 standard deviation increase to the salary.\n",
    "- Notably as well, for a one unit standard deviation increase in the number of times at bat in career salary can be expected to decrease by 391 standard deviations.\n",
    "- One unit increase standard deviation in the number of hits here has a positive effect on Salary of 337 standard deviations."
   ]
  },
  {
   "cell_type": "markdown",
   "id": "d28ce40a",
   "metadata": {},
   "source": [
    "### 3. Use cross-validation to estimate the MSE you would expect if you used this pipeline to predict 1989 salaries."
   ]
  },
  {
   "cell_type": "code",
   "execution_count": 66,
   "id": "32c002ff",
   "metadata": {},
   "outputs": [
    {
     "data": {
      "text/plain": [
       "121136.31031816886"
      ]
     },
     "execution_count": 66,
     "metadata": {},
     "output_type": "execute_result"
    }
   ],
   "source": [
    "ols_MSE_scores = cross_val_score(lr_pipeline_1, X, y, cv=5, scoring='neg_mean_squared_error')\n",
    "\n",
    "# Calculate the positive mean of the negative MSE scores\n",
    "ols_mean_MSE = -np.mean(ols_MSE_scores)\n",
    "\n",
    "ols_mean_MSE"
   ]
  },
  {
   "cell_type": "markdown",
   "id": "9d88227a",
   "metadata": {},
   "source": [
    "## B. Ridge regression"
   ]
  },
  {
   "cell_type": "markdown",
   "id": "2accdbf7",
   "metadata": {},
   "source": [
    "### 1. Create a pipeline that includes all the columns as predictors for Salary, and performs ordinary ridge regression"
   ]
  },
  {
   "cell_type": "code",
   "execution_count": 67,
   "id": "a86fffac",
   "metadata": {},
   "outputs": [],
   "source": [
    "#Model Specification\n",
    "ridge = Ridge()\n",
    "\n",
    "#putting the preprocessor and model spec in the pipeline\n",
    "ridge_pipeline_1 = Pipeline(\n",
    "  [(\"preprocessing\", ct),\n",
    "  (\"ridge_regression\", ridge)]\n",
    ")"
   ]
  },
  {
   "cell_type": "markdown",
   "id": "54894938",
   "metadata": {},
   "source": [
    "### 2. Use cross-validation to tune the lambda hyperparameter."
   ]
  },
  {
   "cell_type": "code",
   "execution_count": 68,
   "id": "016bc297",
   "metadata": {},
   "outputs": [
    {
     "data": {
      "text/html": [
       "<div>\n",
       "<style scoped>\n",
       "    .dataframe tbody tr th:only-of-type {\n",
       "        vertical-align: middle;\n",
       "    }\n",
       "\n",
       "    .dataframe tbody tr th {\n",
       "        vertical-align: top;\n",
       "    }\n",
       "\n",
       "    .dataframe thead th {\n",
       "        text-align: right;\n",
       "    }\n",
       "</style>\n",
       "<table border=\"1\" class=\"dataframe\">\n",
       "  <thead>\n",
       "    <tr style=\"text-align: right;\">\n",
       "      <th></th>\n",
       "      <th>lambdas</th>\n",
       "      <th>scores</th>\n",
       "    </tr>\n",
       "  </thead>\n",
       "  <tbody>\n",
       "    <tr>\n",
       "      <th>4</th>\n",
       "      <td>1</td>\n",
       "      <td>119144.432677</td>\n",
       "    </tr>\n",
       "    <tr>\n",
       "      <th>5</th>\n",
       "      <td>10</td>\n",
       "      <td>119348.984776</td>\n",
       "    </tr>\n",
       "    <tr>\n",
       "      <th>3</th>\n",
       "      <td>0.1</td>\n",
       "      <td>120343.621067</td>\n",
       "    </tr>\n",
       "    <tr>\n",
       "      <th>2</th>\n",
       "      <td>0.01</td>\n",
       "      <td>121022.903286</td>\n",
       "    </tr>\n",
       "    <tr>\n",
       "      <th>1</th>\n",
       "      <td>0.001</td>\n",
       "      <td>121124.458592</td>\n",
       "    </tr>\n",
       "    <tr>\n",
       "      <th>0</th>\n",
       "      <td>0.0001</td>\n",
       "      <td>121135.119780</td>\n",
       "    </tr>\n",
       "  </tbody>\n",
       "</table>\n",
       "</div>"
      ],
      "text/plain": [
       "  lambdas         scores\n",
       "4       1  119144.432677\n",
       "5      10  119348.984776\n",
       "3     0.1  120343.621067\n",
       "2    0.01  121022.903286\n",
       "1   0.001  121124.458592\n",
       "0  0.0001  121135.119780"
      ]
     },
     "execution_count": 68,
     "metadata": {},
     "output_type": "execute_result"
    }
   ],
   "source": [
    "#tuning using grid Search\n",
    "alpha = {'ridge_regression__alpha': [.0001, .001, .01, .1, 1, 10]}\n",
    "\n",
    "gscv = GridSearchCV(ridge_pipeline_1, alpha, cv = 5, scoring='neg_mean_squared_error')\n",
    "\n",
    "gscv_fitted = gscv.fit(X, y)\n",
    "\n",
    "mean_test_scores = gscv_fitted.cv_results_['mean_test_score']\n",
    "alphas = gscv_fitted.cv_results_['param_ridge_regression__alpha']\n",
    "\n",
    "# Creating a DataFrame with degrees and scores\n",
    "ridge_model_scores = pd.DataFrame(data = {\"lambdas\": alphas, \"scores\": -(mean_test_scores)}).sort_values(by='scores', ascending=True)\n",
    "ridge_model_scores"
   ]
  },
  {
   "cell_type": "markdown",
   "id": "2198966a",
   "metadata": {},
   "source": [
    "### 3. Fit the pipeline with your chosen lambda to the full dataset, and interpret a few of the most important coefficients."
   ]
  },
  {
   "cell_type": "code",
   "execution_count": 69,
   "id": "665903d0",
   "metadata": {},
   "outputs": [],
   "source": [
    "#Model Specification\n",
    "ridge = Ridge(alpha = 1)\n",
    "\n",
    "#putting the preprocessor and model spec in the pipeline\n",
    "ridge_pipeline_1 = Pipeline(\n",
    "  [(\"preprocessing\", ct),\n",
    "  (\"ridge_regression\", ridge)]\n",
    ")"
   ]
  },
  {
   "cell_type": "code",
   "execution_count": 70,
   "id": "bb8cd348",
   "metadata": {},
   "outputs": [
    {
     "data": {
      "text/plain": [
       "array([ -30.43885531,   30.43885531,   60.01559493,  -60.01559493,\n",
       "         13.11128155,  -13.11128155, -270.6864407 ,  296.64505003,\n",
       "         18.10059158,  -29.33940613,   -9.11329453,  124.40717273,\n",
       "        -38.66774782, -225.40654798,  126.65960655,   39.07092364,\n",
       "        320.41216891,  160.38678418, -184.4236106 ,   78.62365619,\n",
       "         47.46259711,  -23.72419031])"
      ]
     },
     "execution_count": 70,
     "metadata": {},
     "output_type": "execute_result"
    }
   ],
   "source": [
    "ridge_model = ridge_pipeline_1.fit(X,y)\n",
    "ridge_model_coef = ridge_model.named_steps['ridge_regression'].coef_\n",
    "ridge_model_coef"
   ]
  },
  {
   "cell_type": "code",
   "execution_count": 71,
   "id": "1be33113",
   "metadata": {},
   "outputs": [
    {
     "data": {
      "text/html": [
       "<div>\n",
       "<style scoped>\n",
       "    .dataframe tbody tr th:only-of-type {\n",
       "        vertical-align: middle;\n",
       "    }\n",
       "\n",
       "    .dataframe tbody tr th {\n",
       "        vertical-align: top;\n",
       "    }\n",
       "\n",
       "    .dataframe thead th {\n",
       "        text-align: right;\n",
       "    }\n",
       "</style>\n",
       "<table border=\"1\" class=\"dataframe\">\n",
       "  <thead>\n",
       "    <tr style=\"text-align: right;\">\n",
       "      <th></th>\n",
       "      <th>ridge_Feature</th>\n",
       "      <th>ridge_Coefficient</th>\n",
       "      <th>Absolute_Coefficient</th>\n",
       "    </tr>\n",
       "  </thead>\n",
       "  <tbody>\n",
       "    <tr>\n",
       "      <th>16</th>\n",
       "      <td>standardize__CRuns</td>\n",
       "      <td>320.412169</td>\n",
       "      <td>320.412169</td>\n",
       "    </tr>\n",
       "    <tr>\n",
       "      <th>7</th>\n",
       "      <td>standardize__Hits</td>\n",
       "      <td>296.645050</td>\n",
       "      <td>296.645050</td>\n",
       "    </tr>\n",
       "    <tr>\n",
       "      <th>6</th>\n",
       "      <td>standardize__AtBat</td>\n",
       "      <td>-270.686441</td>\n",
       "      <td>270.686441</td>\n",
       "    </tr>\n",
       "    <tr>\n",
       "      <th>13</th>\n",
       "      <td>standardize__CAtBat</td>\n",
       "      <td>-225.406548</td>\n",
       "      <td>225.406548</td>\n",
       "    </tr>\n",
       "    <tr>\n",
       "      <th>18</th>\n",
       "      <td>standardize__CWalks</td>\n",
       "      <td>-184.423611</td>\n",
       "      <td>184.423611</td>\n",
       "    </tr>\n",
       "  </tbody>\n",
       "</table>\n",
       "</div>"
      ],
      "text/plain": [
       "          ridge_Feature  ridge_Coefficient  Absolute_Coefficient\n",
       "16   standardize__CRuns         320.412169            320.412169\n",
       "7     standardize__Hits         296.645050            296.645050\n",
       "6    standardize__AtBat        -270.686441            270.686441\n",
       "13  standardize__CAtBat        -225.406548            225.406548\n",
       "18  standardize__CWalks        -184.423611            184.423611"
      ]
     },
     "execution_count": 71,
     "metadata": {},
     "output_type": "execute_result"
    }
   ],
   "source": [
    "# GETTING THE FEATURES OUT\n",
    "ridge_features = ct.get_feature_names_out()\n",
    "\n",
    "features_coeff = pd.DataFrame({'ridge_Feature': ols_features, 'ridge_Coefficient': ridge_model_coef})\n",
    "# Add a new column 'Absolute_Coefficient' to features_coeff\n",
    "features_coeff['Absolute_Coefficient'] = features_coeff['ridge_Coefficient'].abs()\n",
    "features_coeff.sort_values(by='Absolute_Coefficient', ascending=False)[0:5]"
   ]
  },
  {
   "cell_type": "markdown",
   "id": "94d809f5",
   "metadata": {},
   "source": [
    "- The number of runs in their overall career has the greatest effect on Salary here with one unit standard deviation increase in runs having a 320 standard deviation increase to the salary.\n",
    "- One unit standard deviation increase in the number of hits here has a positive effect on Salary of 297 in terms of standard deviations.\n",
    "- Notably as well, for a one unit increase standard deviation in the number of times at bat for the season salary can be expected to decrease by 270 standard deviations."
   ]
  },
  {
   "cell_type": "markdown",
   "id": "9cddbbb0",
   "metadata": {},
   "source": [
    "### 4.Report the MSE you would expect if you used this pipeline to predict 1989 salaries."
   ]
  },
  {
   "cell_type": "markdown",
   "id": "9dc2448b",
   "metadata": {},
   "source": [
    "Per the tuning, we can reasonably expect this model to have an MSE of 119144.432677 when used to predict 1989 salaries."
   ]
  },
  {
   "cell_type": "markdown",
   "id": "9d685265",
   "metadata": {},
   "source": [
    "## C. Lasso Regression\n",
    "---"
   ]
  },
  {
   "cell_type": "markdown",
   "id": "89abf30f",
   "metadata": {},
   "source": [
    "### 1. Create a pipeline that includes all the columns as predictors for Salary, and performs ordinary Lasso regression"
   ]
  },
  {
   "cell_type": "code",
   "execution_count": 72,
   "id": "48132b6a",
   "metadata": {},
   "outputs": [],
   "source": [
    "#Model Specification\n",
    "lasso = Lasso()\n",
    "\n",
    "#putting the preprocessor and model spec in the pipeline\n",
    "lasso_pipeline_1 = Pipeline(\n",
    "  [(\"preprocessing\", ct),\n",
    "  (\"lasso_regression\", lasso)]\n",
    ")"
   ]
  },
  {
   "cell_type": "markdown",
   "id": "f9eef273",
   "metadata": {},
   "source": [
    "### 2. Use cross-validation to tune the lambda hyperparameter."
   ]
  },
  {
   "cell_type": "code",
   "execution_count": 73,
   "id": "6b3f198f",
   "metadata": {},
   "outputs": [
    {
     "name": "stderr",
     "output_type": "stream",
     "text": [
      "C:\\Users\\dhfer\\anaconda3\\Lib\\site-packages\\sklearn\\linear_model\\_coordinate_descent.py:628: ConvergenceWarning: Objective did not converge. You might want to increase the number of iterations, check the scale of the features or consider increasing regularisation. Duality gap: 1.035e+07, tolerance: 4.708e+03\n",
      "C:\\Users\\dhfer\\anaconda3\\Lib\\site-packages\\sklearn\\linear_model\\_coordinate_descent.py:628: ConvergenceWarning: Objective did not converge. You might want to increase the number of iterations, check the scale of the features or consider increasing regularisation. Duality gap: 9.155e+06, tolerance: 3.606e+03\n",
      "C:\\Users\\dhfer\\anaconda3\\Lib\\site-packages\\sklearn\\linear_model\\_coordinate_descent.py:628: ConvergenceWarning: Objective did not converge. You might want to increase the number of iterations, check the scale of the features or consider increasing regularisation. Duality gap: 1.026e+07, tolerance: 4.137e+03\n",
      "C:\\Users\\dhfer\\anaconda3\\Lib\\site-packages\\sklearn\\linear_model\\_coordinate_descent.py:628: ConvergenceWarning: Objective did not converge. You might want to increase the number of iterations, check the scale of the features or consider increasing regularisation. Duality gap: 6.865e+06, tolerance: 4.281e+03\n",
      "C:\\Users\\dhfer\\anaconda3\\Lib\\site-packages\\sklearn\\linear_model\\_coordinate_descent.py:628: ConvergenceWarning: Objective did not converge. You might want to increase the number of iterations, check the scale of the features or consider increasing regularisation. Duality gap: 9.671e+06, tolerance: 4.558e+03\n",
      "C:\\Users\\dhfer\\anaconda3\\Lib\\site-packages\\sklearn\\linear_model\\_coordinate_descent.py:628: ConvergenceWarning: Objective did not converge. You might want to increase the number of iterations, check the scale of the features or consider increasing regularisation. Duality gap: 1.004e+07, tolerance: 4.708e+03\n",
      "C:\\Users\\dhfer\\anaconda3\\Lib\\site-packages\\sklearn\\linear_model\\_coordinate_descent.py:628: ConvergenceWarning: Objective did not converge. You might want to increase the number of iterations, check the scale of the features or consider increasing regularisation. Duality gap: 8.984e+06, tolerance: 3.606e+03\n",
      "C:\\Users\\dhfer\\anaconda3\\Lib\\site-packages\\sklearn\\linear_model\\_coordinate_descent.py:628: ConvergenceWarning: Objective did not converge. You might want to increase the number of iterations, check the scale of the features or consider increasing regularisation. Duality gap: 1.012e+07, tolerance: 4.137e+03\n",
      "C:\\Users\\dhfer\\anaconda3\\Lib\\site-packages\\sklearn\\linear_model\\_coordinate_descent.py:628: ConvergenceWarning: Objective did not converge. You might want to increase the number of iterations, check the scale of the features or consider increasing regularisation. Duality gap: 4.096e+06, tolerance: 4.281e+03\n",
      "C:\\Users\\dhfer\\anaconda3\\Lib\\site-packages\\sklearn\\linear_model\\_coordinate_descent.py:628: ConvergenceWarning: Objective did not converge. You might want to increase the number of iterations, check the scale of the features or consider increasing regularisation. Duality gap: 9.537e+06, tolerance: 4.558e+03\n",
      "C:\\Users\\dhfer\\anaconda3\\Lib\\site-packages\\sklearn\\linear_model\\_coordinate_descent.py:628: ConvergenceWarning: Objective did not converge. You might want to increase the number of iterations, check the scale of the features or consider increasing regularisation. Duality gap: 6.594e+06, tolerance: 4.708e+03\n",
      "C:\\Users\\dhfer\\anaconda3\\Lib\\site-packages\\sklearn\\linear_model\\_coordinate_descent.py:628: ConvergenceWarning: Objective did not converge. You might want to increase the number of iterations, check the scale of the features or consider increasing regularisation. Duality gap: 7.059e+06, tolerance: 3.606e+03\n",
      "C:\\Users\\dhfer\\anaconda3\\Lib\\site-packages\\sklearn\\linear_model\\_coordinate_descent.py:628: ConvergenceWarning: Objective did not converge. You might want to increase the number of iterations, check the scale of the features or consider increasing regularisation. Duality gap: 8.591e+06, tolerance: 4.137e+03\n",
      "C:\\Users\\dhfer\\anaconda3\\Lib\\site-packages\\sklearn\\linear_model\\_coordinate_descent.py:628: ConvergenceWarning: Objective did not converge. You might want to increase the number of iterations, check the scale of the features or consider increasing regularisation. Duality gap: 4.471e+05, tolerance: 4.281e+03\n",
      "C:\\Users\\dhfer\\anaconda3\\Lib\\site-packages\\sklearn\\linear_model\\_coordinate_descent.py:628: ConvergenceWarning: Objective did not converge. You might want to increase the number of iterations, check the scale of the features or consider increasing regularisation. Duality gap: 8.066e+06, tolerance: 4.558e+03\n",
      "C:\\Users\\dhfer\\anaconda3\\Lib\\site-packages\\sklearn\\linear_model\\_coordinate_descent.py:628: ConvergenceWarning: Objective did not converge. You might want to increase the number of iterations, check the scale of the features or consider increasing regularisation. Duality gap: 4.923e+04, tolerance: 4.708e+03\n",
      "C:\\Users\\dhfer\\anaconda3\\Lib\\site-packages\\sklearn\\linear_model\\_coordinate_descent.py:628: ConvergenceWarning: Objective did not converge. You might want to increase the number of iterations, check the scale of the features or consider increasing regularisation. Duality gap: 2.726e+05, tolerance: 3.606e+03\n",
      "C:\\Users\\dhfer\\anaconda3\\Lib\\site-packages\\sklearn\\linear_model\\_coordinate_descent.py:628: ConvergenceWarning: Objective did not converge. You might want to increase the number of iterations, check the scale of the features or consider increasing regularisation. Duality gap: 2.158e+05, tolerance: 4.137e+03\n",
      "C:\\Users\\dhfer\\anaconda3\\Lib\\site-packages\\sklearn\\linear_model\\_coordinate_descent.py:628: ConvergenceWarning: Objective did not converge. You might want to increase the number of iterations, check the scale of the features or consider increasing regularisation. Duality gap: 2.929e+04, tolerance: 4.281e+03\n",
      "C:\\Users\\dhfer\\anaconda3\\Lib\\site-packages\\sklearn\\linear_model\\_coordinate_descent.py:628: ConvergenceWarning: Objective did not converge. You might want to increase the number of iterations, check the scale of the features or consider increasing regularisation. Duality gap: 4.282e+05, tolerance: 4.558e+03\n",
      "C:\\Users\\dhfer\\anaconda3\\Lib\\site-packages\\sklearn\\linear_model\\_coordinate_descent.py:628: ConvergenceWarning: Objective did not converge. You might want to increase the number of iterations, check the scale of the features or consider increasing regularisation. Duality gap: 4.815e+03, tolerance: 4.281e+03\n"
     ]
    },
    {
     "data": {
      "text/html": [
       "<div>\n",
       "<style scoped>\n",
       "    .dataframe tbody tr th:only-of-type {\n",
       "        vertical-align: middle;\n",
       "    }\n",
       "\n",
       "    .dataframe tbody tr th {\n",
       "        vertical-align: top;\n",
       "    }\n",
       "\n",
       "    .dataframe thead th {\n",
       "        text-align: right;\n",
       "    }\n",
       "</style>\n",
       "<table border=\"1\" class=\"dataframe\">\n",
       "  <thead>\n",
       "    <tr style=\"text-align: right;\">\n",
       "      <th></th>\n",
       "      <th>lambda</th>\n",
       "      <th>scores</th>\n",
       "    </tr>\n",
       "  </thead>\n",
       "  <tbody>\n",
       "    <tr>\n",
       "      <th>4</th>\n",
       "      <td>1</td>\n",
       "      <td>119761.587407</td>\n",
       "    </tr>\n",
       "    <tr>\n",
       "      <th>3</th>\n",
       "      <td>0.1</td>\n",
       "      <td>120682.252637</td>\n",
       "    </tr>\n",
       "    <tr>\n",
       "      <th>2</th>\n",
       "      <td>0.01</td>\n",
       "      <td>120964.764686</td>\n",
       "    </tr>\n",
       "    <tr>\n",
       "      <th>1</th>\n",
       "      <td>0.001</td>\n",
       "      <td>120994.179815</td>\n",
       "    </tr>\n",
       "    <tr>\n",
       "      <th>0</th>\n",
       "      <td>0.0001</td>\n",
       "      <td>120997.134215</td>\n",
       "    </tr>\n",
       "    <tr>\n",
       "      <th>5</th>\n",
       "      <td>10</td>\n",
       "      <td>121828.141333</td>\n",
       "    </tr>\n",
       "  </tbody>\n",
       "</table>\n",
       "</div>"
      ],
      "text/plain": [
       "   lambda         scores\n",
       "4       1  119761.587407\n",
       "3     0.1  120682.252637\n",
       "2    0.01  120964.764686\n",
       "1   0.001  120994.179815\n",
       "0  0.0001  120997.134215\n",
       "5      10  121828.141333"
      ]
     },
     "execution_count": 73,
     "metadata": {},
     "output_type": "execute_result"
    }
   ],
   "source": [
    "#tuning using grid Search\n",
    "alpha = {'lasso_regression__alpha': [.0001, .001, .01, .1, 1, 10]}\n",
    "\n",
    "gscv = GridSearchCV(lasso_pipeline_1, alpha, cv = 5, scoring='neg_mean_squared_error')\n",
    "\n",
    "gscv_fitted = gscv.fit(X, y)\n",
    "\n",
    "mean_test_scores = gscv_fitted.cv_results_['mean_test_score']\n",
    "alphas = gscv_fitted.cv_results_['param_lasso_regression__alpha']\n",
    "\n",
    "# Creating a DataFrame with degrees and scores\n",
    "lasso_model_scores = pd.DataFrame(data = {\"lambda\": alphas, \"scores\": -(mean_test_scores)}).sort_values(by='scores', ascending=True)\n",
    "lasso_model_scores"
   ]
  },
  {
   "cell_type": "markdown",
   "id": "9061b03b",
   "metadata": {},
   "source": [
    "### 3. Fit the pipeline with your chosen lambda to the full dataset, and interpret a few of the most important coefficients.\n"
   ]
  },
  {
   "cell_type": "code",
   "execution_count": 74,
   "id": "3eb1d143",
   "metadata": {},
   "outputs": [],
   "source": [
    "#Model Specification\n",
    "lasso = Lasso(alpha = 1)\n",
    "\n",
    "#putting the preprocessor and model spec in the pipeline\n",
    "lasso_pipeline_1 = Pipeline(\n",
    "  [(\"preprocessing\", ct),\n",
    "  (\"lasso_regression\", lasso)]\n",
    ")"
   ]
  },
  {
   "cell_type": "code",
   "execution_count": 75,
   "id": "b685850c",
   "metadata": {},
   "outputs": [
    {
     "data": {
      "text/plain": [
       "array([-3.58260721e+01,  0.00000000e+00,  1.14412951e+02, -2.13116651e-11,\n",
       "        0.00000000e+00, -0.00000000e+00, -2.82370957e+02,  3.04359509e+02,\n",
       "        1.11270220e+01, -2.49665071e+01, -0.00000000e+00,  1.20695275e+02,\n",
       "       -3.49481481e+01, -1.62639794e+02,  0.00000000e+00,  1.42259932e+01,\n",
       "        3.75565519e+02,  1.92610892e+02, -1.89644642e+02,  7.87603658e+01,\n",
       "        4.19966795e+01, -1.84793784e+01])"
      ]
     },
     "execution_count": 75,
     "metadata": {},
     "output_type": "execute_result"
    }
   ],
   "source": [
    "lasso_model = lasso_pipeline_1.fit(X,y)\n",
    "lasso_model_coef = lasso_model.named_steps['lasso_regression'].coef_\n",
    "lasso_model_coef"
   ]
  },
  {
   "cell_type": "code",
   "execution_count": 76,
   "id": "358fb57d",
   "metadata": {},
   "outputs": [
    {
     "data": {
      "text/html": [
       "<div>\n",
       "<style scoped>\n",
       "    .dataframe tbody tr th:only-of-type {\n",
       "        vertical-align: middle;\n",
       "    }\n",
       "\n",
       "    .dataframe tbody tr th {\n",
       "        vertical-align: top;\n",
       "    }\n",
       "\n",
       "    .dataframe thead th {\n",
       "        text-align: right;\n",
       "    }\n",
       "</style>\n",
       "<table border=\"1\" class=\"dataframe\">\n",
       "  <thead>\n",
       "    <tr style=\"text-align: right;\">\n",
       "      <th></th>\n",
       "      <th>lasso_Feature</th>\n",
       "      <th>lasso_Coefficient</th>\n",
       "      <th>Absolute_Coefficient</th>\n",
       "    </tr>\n",
       "  </thead>\n",
       "  <tbody>\n",
       "    <tr>\n",
       "      <th>16</th>\n",
       "      <td>standardize__CRuns</td>\n",
       "      <td>375.565519</td>\n",
       "      <td>375.565519</td>\n",
       "    </tr>\n",
       "    <tr>\n",
       "      <th>7</th>\n",
       "      <td>standardize__Hits</td>\n",
       "      <td>304.359509</td>\n",
       "      <td>304.359509</td>\n",
       "    </tr>\n",
       "    <tr>\n",
       "      <th>6</th>\n",
       "      <td>standardize__AtBat</td>\n",
       "      <td>-282.370957</td>\n",
       "      <td>282.370957</td>\n",
       "    </tr>\n",
       "    <tr>\n",
       "      <th>17</th>\n",
       "      <td>standardize__CRBI</td>\n",
       "      <td>192.610892</td>\n",
       "      <td>192.610892</td>\n",
       "    </tr>\n",
       "    <tr>\n",
       "      <th>18</th>\n",
       "      <td>standardize__CWalks</td>\n",
       "      <td>-189.644642</td>\n",
       "      <td>189.644642</td>\n",
       "    </tr>\n",
       "  </tbody>\n",
       "</table>\n",
       "</div>"
      ],
      "text/plain": [
       "          lasso_Feature  lasso_Coefficient  Absolute_Coefficient\n",
       "16   standardize__CRuns         375.565519            375.565519\n",
       "7     standardize__Hits         304.359509            304.359509\n",
       "6    standardize__AtBat        -282.370957            282.370957\n",
       "17    standardize__CRBI         192.610892            192.610892\n",
       "18  standardize__CWalks        -189.644642            189.644642"
      ]
     },
     "execution_count": 76,
     "metadata": {},
     "output_type": "execute_result"
    }
   ],
   "source": [
    "# GETTING THE FEATURES OUT\n",
    "lasso_features = ct.get_feature_names_out()\n",
    "\n",
    "features_coeff = pd.DataFrame({'lasso_Feature': ols_features, 'lasso_Coefficient': lasso_model_coef})\n",
    "# Add a new column 'Absolute_Coefficient' to features_coeff\n",
    "features_coeff['Absolute_Coefficient'] = features_coeff['lasso_Coefficient'].abs()\n",
    "features_coeff.sort_values(by='Absolute_Coefficient', ascending=False)[0:5]"
   ]
  },
  {
   "cell_type": "markdown",
   "id": "319a3b72",
   "metadata": {},
   "source": [
    "- The number of runs in their overall career has the greatest effect on Salary here with one unit increase in standard deviation in runs having a 376 standard deviation increase to the salary.\n",
    "- One unit increase in standard deviations to the number of hits per season here has a positive effect on Salary of 304 in standard deviations.\n",
    "- Notably as well, for a one unit increase in standard deviations in the number of times at bat for the season salary can be expected to decrease by 282 in salary standard deviations."
   ]
  },
  {
   "cell_type": "markdown",
   "id": "815eb034",
   "metadata": {},
   "source": [
    "### 4.Report the MSE you would expect if you used this pipeline to predict 1989 salaries."
   ]
  },
  {
   "cell_type": "markdown",
   "id": "b98a9a25",
   "metadata": {},
   "source": [
    "Per the tuning, we can reasonably expect this model to have an MSE of 119761.587407 when used to predict 1989 salaries."
   ]
  },
  {
   "cell_type": "markdown",
   "id": "42accb0a",
   "metadata": {},
   "source": [
    "## D. Elastic Net\n",
    "---"
   ]
  },
  {
   "cell_type": "markdown",
   "id": "8b78cbc5",
   "metadata": {},
   "source": [
    "### 1. Create a pipeline that includes all the columns as predictors for Salary, and performs Elastic Net regression"
   ]
  },
  {
   "cell_type": "code",
   "execution_count": 77,
   "id": "30ef5736",
   "metadata": {},
   "outputs": [],
   "source": [
    "#Model Specification\n",
    "enet = ElasticNet()\n",
    "\n",
    "#putting the preprocessor and model spec in the pipeline\n",
    "enet_pipeline_1 = Pipeline(\n",
    "  [(\"preprocessing\", ct),\n",
    "  (\"enet_regression\", enet)]\n",
    ")"
   ]
  },
  {
   "cell_type": "markdown",
   "id": "b795b5aa",
   "metadata": {},
   "source": [
    "### 2. Use cross-validation to tune the lambda hyperparameter."
   ]
  },
  {
   "cell_type": "code",
   "execution_count": 78,
   "id": "4e164c0e",
   "metadata": {},
   "outputs": [
    {
     "name": "stderr",
     "output_type": "stream",
     "text": [
      "C:\\Users\\dhfer\\anaconda3\\Lib\\site-packages\\sklearn\\linear_model\\_coordinate_descent.py:628: ConvergenceWarning: Objective did not converge. You might want to increase the number of iterations, check the scale of the features or consider increasing regularisation. Duality gap: 1.039e+07, tolerance: 4.708e+03\n",
      "C:\\Users\\dhfer\\anaconda3\\Lib\\site-packages\\sklearn\\linear_model\\_coordinate_descent.py:628: ConvergenceWarning: Objective did not converge. You might want to increase the number of iterations, check the scale of the features or consider increasing regularisation. Duality gap: 9.177e+06, tolerance: 3.606e+03\n",
      "C:\\Users\\dhfer\\anaconda3\\Lib\\site-packages\\sklearn\\linear_model\\_coordinate_descent.py:628: ConvergenceWarning: Objective did not converge. You might want to increase the number of iterations, check the scale of the features or consider increasing regularisation. Duality gap: 1.029e+07, tolerance: 4.137e+03\n",
      "C:\\Users\\dhfer\\anaconda3\\Lib\\site-packages\\sklearn\\linear_model\\_coordinate_descent.py:628: ConvergenceWarning: Objective did not converge. You might want to increase the number of iterations, check the scale of the features or consider increasing regularisation. Duality gap: 7.335e+06, tolerance: 4.281e+03\n",
      "C:\\Users\\dhfer\\anaconda3\\Lib\\site-packages\\sklearn\\linear_model\\_coordinate_descent.py:628: ConvergenceWarning: Objective did not converge. You might want to increase the number of iterations, check the scale of the features or consider increasing regularisation. Duality gap: 9.694e+06, tolerance: 4.558e+03\n",
      "C:\\Users\\dhfer\\anaconda3\\Lib\\site-packages\\sklearn\\linear_model\\_coordinate_descent.py:628: ConvergenceWarning: Objective did not converge. You might want to increase the number of iterations, check the scale of the features or consider increasing regularisation. Duality gap: 1.039e+07, tolerance: 4.708e+03\n",
      "C:\\Users\\dhfer\\anaconda3\\Lib\\site-packages\\sklearn\\linear_model\\_coordinate_descent.py:628: ConvergenceWarning: Objective did not converge. You might want to increase the number of iterations, check the scale of the features or consider increasing regularisation. Duality gap: 9.175e+06, tolerance: 3.606e+03\n",
      "C:\\Users\\dhfer\\anaconda3\\Lib\\site-packages\\sklearn\\linear_model\\_coordinate_descent.py:628: ConvergenceWarning: Objective did not converge. You might want to increase the number of iterations, check the scale of the features or consider increasing regularisation. Duality gap: 1.028e+07, tolerance: 4.137e+03\n",
      "C:\\Users\\dhfer\\anaconda3\\Lib\\site-packages\\sklearn\\linear_model\\_coordinate_descent.py:628: ConvergenceWarning: Objective did not converge. You might want to increase the number of iterations, check the scale of the features or consider increasing regularisation. Duality gap: 7.305e+06, tolerance: 4.281e+03\n",
      "C:\\Users\\dhfer\\anaconda3\\Lib\\site-packages\\sklearn\\linear_model\\_coordinate_descent.py:628: ConvergenceWarning: Objective did not converge. You might want to increase the number of iterations, check the scale of the features or consider increasing regularisation. Duality gap: 9.691e+06, tolerance: 4.558e+03\n",
      "C:\\Users\\dhfer\\anaconda3\\Lib\\site-packages\\sklearn\\linear_model\\_coordinate_descent.py:628: ConvergenceWarning: Objective did not converge. You might want to increase the number of iterations, check the scale of the features or consider increasing regularisation. Duality gap: 1.038e+07, tolerance: 4.708e+03\n",
      "C:\\Users\\dhfer\\anaconda3\\Lib\\site-packages\\sklearn\\linear_model\\_coordinate_descent.py:628: ConvergenceWarning: Objective did not converge. You might want to increase the number of iterations, check the scale of the features or consider increasing regularisation. Duality gap: 9.169e+06, tolerance: 3.606e+03\n",
      "C:\\Users\\dhfer\\anaconda3\\Lib\\site-packages\\sklearn\\linear_model\\_coordinate_descent.py:628: ConvergenceWarning: Objective did not converge. You might want to increase the number of iterations, check the scale of the features or consider increasing regularisation. Duality gap: 1.028e+07, tolerance: 4.137e+03\n",
      "C:\\Users\\dhfer\\anaconda3\\Lib\\site-packages\\sklearn\\linear_model\\_coordinate_descent.py:628: ConvergenceWarning: Objective did not converge. You might want to increase the number of iterations, check the scale of the features or consider increasing regularisation. Duality gap: 7.203e+06, tolerance: 4.281e+03\n",
      "C:\\Users\\dhfer\\anaconda3\\Lib\\site-packages\\sklearn\\linear_model\\_coordinate_descent.py:628: ConvergenceWarning: Objective did not converge. You might want to increase the number of iterations, check the scale of the features or consider increasing regularisation. Duality gap: 9.686e+06, tolerance: 4.558e+03\n",
      "C:\\Users\\dhfer\\anaconda3\\Lib\\site-packages\\sklearn\\linear_model\\_coordinate_descent.py:628: ConvergenceWarning: Objective did not converge. You might want to increase the number of iterations, check the scale of the features or consider increasing regularisation. Duality gap: 1.037e+07, tolerance: 4.708e+03\n",
      "C:\\Users\\dhfer\\anaconda3\\Lib\\site-packages\\sklearn\\linear_model\\_coordinate_descent.py:628: ConvergenceWarning: Objective did not converge. You might want to increase the number of iterations, check the scale of the features or consider increasing regularisation. Duality gap: 9.164e+06, tolerance: 3.606e+03\n",
      "C:\\Users\\dhfer\\anaconda3\\Lib\\site-packages\\sklearn\\linear_model\\_coordinate_descent.py:628: ConvergenceWarning: Objective did not converge. You might want to increase the number of iterations, check the scale of the features or consider increasing regularisation. Duality gap: 1.027e+07, tolerance: 4.137e+03\n",
      "C:\\Users\\dhfer\\anaconda3\\Lib\\site-packages\\sklearn\\linear_model\\_coordinate_descent.py:628: ConvergenceWarning: Objective did not converge. You might want to increase the number of iterations, check the scale of the features or consider increasing regularisation. Duality gap: 7.033e+06, tolerance: 4.281e+03\n",
      "C:\\Users\\dhfer\\anaconda3\\Lib\\site-packages\\sklearn\\linear_model\\_coordinate_descent.py:628: ConvergenceWarning: Objective did not converge. You might want to increase the number of iterations, check the scale of the features or consider increasing regularisation. Duality gap: 9.681e+06, tolerance: 4.558e+03\n",
      "C:\\Users\\dhfer\\anaconda3\\Lib\\site-packages\\sklearn\\linear_model\\_coordinate_descent.py:628: ConvergenceWarning: Objective did not converge. You might want to increase the number of iterations, check the scale of the features or consider increasing regularisation. Duality gap: 1.036e+07, tolerance: 4.708e+03\n",
      "C:\\Users\\dhfer\\anaconda3\\Lib\\site-packages\\sklearn\\linear_model\\_coordinate_descent.py:628: ConvergenceWarning: Objective did not converge. You might want to increase the number of iterations, check the scale of the features or consider increasing regularisation. Duality gap: 9.160e+06, tolerance: 3.606e+03\n",
      "C:\\Users\\dhfer\\anaconda3\\Lib\\site-packages\\sklearn\\linear_model\\_coordinate_descent.py:628: ConvergenceWarning: Objective did not converge. You might want to increase the number of iterations, check the scale of the features or consider increasing regularisation. Duality gap: 1.027e+07, tolerance: 4.137e+03\n",
      "C:\\Users\\dhfer\\anaconda3\\Lib\\site-packages\\sklearn\\linear_model\\_coordinate_descent.py:628: ConvergenceWarning: Objective did not converge. You might want to increase the number of iterations, check the scale of the features or consider increasing regularisation. Duality gap: 6.621e+06, tolerance: 4.281e+03\n",
      "C:\\Users\\dhfer\\anaconda3\\Lib\\site-packages\\sklearn\\linear_model\\_coordinate_descent.py:628: ConvergenceWarning: Objective did not converge. You might want to increase the number of iterations, check the scale of the features or consider increasing regularisation. Duality gap: 9.676e+06, tolerance: 4.558e+03\n",
      "C:\\Users\\dhfer\\anaconda3\\Lib\\site-packages\\sklearn\\linear_model\\_coordinate_descent.py:628: ConvergenceWarning: Objective did not converge. You might want to increase the number of iterations, check the scale of the features or consider increasing regularisation. Duality gap: 1.036e+07, tolerance: 4.708e+03\n",
      "C:\\Users\\dhfer\\anaconda3\\Lib\\site-packages\\sklearn\\linear_model\\_coordinate_descent.py:628: ConvergenceWarning: Objective did not converge. You might want to increase the number of iterations, check the scale of the features or consider increasing regularisation. Duality gap: 9.157e+06, tolerance: 3.606e+03\n",
      "C:\\Users\\dhfer\\anaconda3\\Lib\\site-packages\\sklearn\\linear_model\\_coordinate_descent.py:628: ConvergenceWarning: Objective did not converge. You might want to increase the number of iterations, check the scale of the features or consider increasing regularisation. Duality gap: 1.027e+07, tolerance: 4.137e+03\n",
      "C:\\Users\\dhfer\\anaconda3\\Lib\\site-packages\\sklearn\\linear_model\\_coordinate_descent.py:628: ConvergenceWarning: Objective did not converge. You might want to increase the number of iterations, check the scale of the features or consider increasing regularisation. Duality gap: 6.745e+06, tolerance: 4.281e+03\n",
      "C:\\Users\\dhfer\\anaconda3\\Lib\\site-packages\\sklearn\\linear_model\\_coordinate_descent.py:628: ConvergenceWarning: Objective did not converge. You might want to increase the number of iterations, check the scale of the features or consider increasing regularisation. Duality gap: 9.673e+06, tolerance: 4.558e+03\n",
      "C:\\Users\\dhfer\\anaconda3\\Lib\\site-packages\\sklearn\\linear_model\\_coordinate_descent.py:628: ConvergenceWarning: Objective did not converge. You might want to increase the number of iterations, check the scale of the features or consider increasing regularisation. Duality gap: 1.033e+07, tolerance: 4.708e+03\n",
      "C:\\Users\\dhfer\\anaconda3\\Lib\\site-packages\\sklearn\\linear_model\\_coordinate_descent.py:628: ConvergenceWarning: Objective did not converge. You might want to increase the number of iterations, check the scale of the features or consider increasing regularisation. Duality gap: 9.137e+06, tolerance: 3.606e+03\n",
      "C:\\Users\\dhfer\\anaconda3\\Lib\\site-packages\\sklearn\\linear_model\\_coordinate_descent.py:628: ConvergenceWarning: Objective did not converge. You might want to increase the number of iterations, check the scale of the features or consider increasing regularisation. Duality gap: 1.030e+07, tolerance: 4.137e+03\n",
      "C:\\Users\\dhfer\\anaconda3\\Lib\\site-packages\\sklearn\\linear_model\\_coordinate_descent.py:628: ConvergenceWarning: Objective did not converge. You might want to increase the number of iterations, check the scale of the features or consider increasing regularisation. Duality gap: 7.359e+06, tolerance: 4.281e+03\n",
      "C:\\Users\\dhfer\\anaconda3\\Lib\\site-packages\\sklearn\\linear_model\\_coordinate_descent.py:628: ConvergenceWarning: Objective did not converge. You might want to increase the number of iterations, check the scale of the features or consider increasing regularisation. Duality gap: 9.710e+06, tolerance: 4.558e+03\n",
      "C:\\Users\\dhfer\\anaconda3\\Lib\\site-packages\\sklearn\\linear_model\\_coordinate_descent.py:628: ConvergenceWarning: Objective did not converge. You might want to increase the number of iterations, check the scale of the features or consider increasing regularisation. Duality gap: 1.025e+07, tolerance: 4.708e+03\n",
      "C:\\Users\\dhfer\\anaconda3\\Lib\\site-packages\\sklearn\\linear_model\\_coordinate_descent.py:628: ConvergenceWarning: Objective did not converge. You might want to increase the number of iterations, check the scale of the features or consider increasing regularisation. Duality gap: 9.075e+06, tolerance: 3.606e+03\n",
      "C:\\Users\\dhfer\\anaconda3\\Lib\\site-packages\\sklearn\\linear_model\\_coordinate_descent.py:628: ConvergenceWarning: Objective did not converge. You might want to increase the number of iterations, check the scale of the features or consider increasing regularisation. Duality gap: 1.025e+07, tolerance: 4.137e+03\n",
      "C:\\Users\\dhfer\\anaconda3\\Lib\\site-packages\\sklearn\\linear_model\\_coordinate_descent.py:628: ConvergenceWarning: Objective did not converge. You might want to increase the number of iterations, check the scale of the features or consider increasing regularisation. Duality gap: 7.278e+06, tolerance: 4.281e+03\n"
     ]
    },
    {
     "name": "stderr",
     "output_type": "stream",
     "text": [
      "C:\\Users\\dhfer\\anaconda3\\Lib\\site-packages\\sklearn\\linear_model\\_coordinate_descent.py:628: ConvergenceWarning: Objective did not converge. You might want to increase the number of iterations, check the scale of the features or consider increasing regularisation. Duality gap: 9.657e+06, tolerance: 4.558e+03\n",
      "C:\\Users\\dhfer\\anaconda3\\Lib\\site-packages\\sklearn\\linear_model\\_coordinate_descent.py:628: ConvergenceWarning: Objective did not converge. You might want to increase the number of iterations, check the scale of the features or consider increasing regularisation. Duality gap: 1.015e+07, tolerance: 4.708e+03\n",
      "C:\\Users\\dhfer\\anaconda3\\Lib\\site-packages\\sklearn\\linear_model\\_coordinate_descent.py:628: ConvergenceWarning: Objective did not converge. You might want to increase the number of iterations, check the scale of the features or consider increasing regularisation. Duality gap: 9.010e+06, tolerance: 3.606e+03\n",
      "C:\\Users\\dhfer\\anaconda3\\Lib\\site-packages\\sklearn\\linear_model\\_coordinate_descent.py:628: ConvergenceWarning: Objective did not converge. You might want to increase the number of iterations, check the scale of the features or consider increasing regularisation. Duality gap: 1.020e+07, tolerance: 4.137e+03\n",
      "C:\\Users\\dhfer\\anaconda3\\Lib\\site-packages\\sklearn\\linear_model\\_coordinate_descent.py:628: ConvergenceWarning: Objective did not converge. You might want to increase the number of iterations, check the scale of the features or consider increasing regularisation. Duality gap: 7.136e+06, tolerance: 4.281e+03\n",
      "C:\\Users\\dhfer\\anaconda3\\Lib\\site-packages\\sklearn\\linear_model\\_coordinate_descent.py:628: ConvergenceWarning: Objective did not converge. You might want to increase the number of iterations, check the scale of the features or consider increasing regularisation. Duality gap: 9.596e+06, tolerance: 4.558e+03\n",
      "C:\\Users\\dhfer\\anaconda3\\Lib\\site-packages\\sklearn\\linear_model\\_coordinate_descent.py:628: ConvergenceWarning: Objective did not converge. You might want to increase the number of iterations, check the scale of the features or consider increasing regularisation. Duality gap: 1.010e+07, tolerance: 4.708e+03\n",
      "C:\\Users\\dhfer\\anaconda3\\Lib\\site-packages\\sklearn\\linear_model\\_coordinate_descent.py:628: ConvergenceWarning: Objective did not converge. You might want to increase the number of iterations, check the scale of the features or consider increasing regularisation. Duality gap: 8.986e+06, tolerance: 3.606e+03\n",
      "C:\\Users\\dhfer\\anaconda3\\Lib\\site-packages\\sklearn\\linear_model\\_coordinate_descent.py:628: ConvergenceWarning: Objective did not converge. You might want to increase the number of iterations, check the scale of the features or consider increasing regularisation. Duality gap: 1.016e+07, tolerance: 4.137e+03\n",
      "C:\\Users\\dhfer\\anaconda3\\Lib\\site-packages\\sklearn\\linear_model\\_coordinate_descent.py:628: ConvergenceWarning: Objective did not converge. You might want to increase the number of iterations, check the scale of the features or consider increasing regularisation. Duality gap: 6.963e+06, tolerance: 4.281e+03\n",
      "C:\\Users\\dhfer\\anaconda3\\Lib\\site-packages\\sklearn\\linear_model\\_coordinate_descent.py:628: ConvergenceWarning: Objective did not converge. You might want to increase the number of iterations, check the scale of the features or consider increasing regularisation. Duality gap: 9.566e+06, tolerance: 4.558e+03\n",
      "C:\\Users\\dhfer\\anaconda3\\Lib\\site-packages\\sklearn\\linear_model\\_coordinate_descent.py:628: ConvergenceWarning: Objective did not converge. You might want to increase the number of iterations, check the scale of the features or consider increasing regularisation. Duality gap: 1.007e+07, tolerance: 4.708e+03\n",
      "C:\\Users\\dhfer\\anaconda3\\Lib\\site-packages\\sklearn\\linear_model\\_coordinate_descent.py:628: ConvergenceWarning: Objective did not converge. You might want to increase the number of iterations, check the scale of the features or consider increasing regularisation. Duality gap: 8.981e+06, tolerance: 3.606e+03\n",
      "C:\\Users\\dhfer\\anaconda3\\Lib\\site-packages\\sklearn\\linear_model\\_coordinate_descent.py:628: ConvergenceWarning: Objective did not converge. You might want to increase the number of iterations, check the scale of the features or consider increasing regularisation. Duality gap: 1.014e+07, tolerance: 4.137e+03\n",
      "C:\\Users\\dhfer\\anaconda3\\Lib\\site-packages\\sklearn\\linear_model\\_coordinate_descent.py:628: ConvergenceWarning: Objective did not converge. You might want to increase the number of iterations, check the scale of the features or consider increasing regularisation. Duality gap: 6.525e+06, tolerance: 4.281e+03\n",
      "C:\\Users\\dhfer\\anaconda3\\Lib\\site-packages\\sklearn\\linear_model\\_coordinate_descent.py:628: ConvergenceWarning: Objective did not converge. You might want to increase the number of iterations, check the scale of the features or consider increasing regularisation. Duality gap: 9.550e+06, tolerance: 4.558e+03\n",
      "C:\\Users\\dhfer\\anaconda3\\Lib\\site-packages\\sklearn\\linear_model\\_coordinate_descent.py:628: ConvergenceWarning: Objective did not converge. You might want to increase the number of iterations, check the scale of the features or consider increasing regularisation. Duality gap: 1.005e+07, tolerance: 4.708e+03\n",
      "C:\\Users\\dhfer\\anaconda3\\Lib\\site-packages\\sklearn\\linear_model\\_coordinate_descent.py:628: ConvergenceWarning: Objective did not converge. You might want to increase the number of iterations, check the scale of the features or consider increasing regularisation. Duality gap: 8.982e+06, tolerance: 3.606e+03\n",
      "C:\\Users\\dhfer\\anaconda3\\Lib\\site-packages\\sklearn\\linear_model\\_coordinate_descent.py:628: ConvergenceWarning: Objective did not converge. You might want to increase the number of iterations, check the scale of the features or consider increasing regularisation. Duality gap: 1.013e+07, tolerance: 4.137e+03\n",
      "C:\\Users\\dhfer\\anaconda3\\Lib\\site-packages\\sklearn\\linear_model\\_coordinate_descent.py:628: ConvergenceWarning: Objective did not converge. You might want to increase the number of iterations, check the scale of the features or consider increasing regularisation. Duality gap: 5.488e+06, tolerance: 4.281e+03\n",
      "C:\\Users\\dhfer\\anaconda3\\Lib\\site-packages\\sklearn\\linear_model\\_coordinate_descent.py:628: ConvergenceWarning: Objective did not converge. You might want to increase the number of iterations, check the scale of the features or consider increasing regularisation. Duality gap: 9.543e+06, tolerance: 4.558e+03\n",
      "C:\\Users\\dhfer\\anaconda3\\Lib\\site-packages\\sklearn\\linear_model\\_coordinate_descent.py:628: ConvergenceWarning: Objective did not converge. You might want to increase the number of iterations, check the scale of the features or consider increasing regularisation. Duality gap: 3.133e+05, tolerance: 4.708e+03\n",
      "C:\\Users\\dhfer\\anaconda3\\Lib\\site-packages\\sklearn\\linear_model\\_coordinate_descent.py:628: ConvergenceWarning: Objective did not converge. You might want to increase the number of iterations, check the scale of the features or consider increasing regularisation. Duality gap: 5.634e+04, tolerance: 3.606e+03\n",
      "C:\\Users\\dhfer\\anaconda3\\Lib\\site-packages\\sklearn\\linear_model\\_coordinate_descent.py:628: ConvergenceWarning: Objective did not converge. You might want to increase the number of iterations, check the scale of the features or consider increasing regularisation. Duality gap: 9.792e+05, tolerance: 4.137e+03\n",
      "C:\\Users\\dhfer\\anaconda3\\Lib\\site-packages\\sklearn\\linear_model\\_coordinate_descent.py:628: ConvergenceWarning: Objective did not converge. You might want to increase the number of iterations, check the scale of the features or consider increasing regularisation. Duality gap: 3.632e+04, tolerance: 4.281e+03\n",
      "C:\\Users\\dhfer\\anaconda3\\Lib\\site-packages\\sklearn\\linear_model\\_coordinate_descent.py:628: ConvergenceWarning: Objective did not converge. You might want to increase the number of iterations, check the scale of the features or consider increasing regularisation. Duality gap: 4.947e+04, tolerance: 4.558e+03\n",
      "C:\\Users\\dhfer\\anaconda3\\Lib\\site-packages\\sklearn\\linear_model\\_coordinate_descent.py:628: ConvergenceWarning: Objective did not converge. You might want to increase the number of iterations, check the scale of the features or consider increasing regularisation. Duality gap: 3.597e+05, tolerance: 4.708e+03\n",
      "C:\\Users\\dhfer\\anaconda3\\Lib\\site-packages\\sklearn\\linear_model\\_coordinate_descent.py:628: ConvergenceWarning: Objective did not converge. You might want to increase the number of iterations, check the scale of the features or consider increasing regularisation. Duality gap: 3.940e+05, tolerance: 3.606e+03\n",
      "C:\\Users\\dhfer\\anaconda3\\Lib\\site-packages\\sklearn\\linear_model\\_coordinate_descent.py:628: ConvergenceWarning: Objective did not converge. You might want to increase the number of iterations, check the scale of the features or consider increasing regularisation. Duality gap: 3.672e+06, tolerance: 4.137e+03\n",
      "C:\\Users\\dhfer\\anaconda3\\Lib\\site-packages\\sklearn\\linear_model\\_coordinate_descent.py:628: ConvergenceWarning: Objective did not converge. You might want to increase the number of iterations, check the scale of the features or consider increasing regularisation. Duality gap: 2.925e+05, tolerance: 4.281e+03\n"
     ]
    },
    {
     "name": "stderr",
     "output_type": "stream",
     "text": [
      "C:\\Users\\dhfer\\anaconda3\\Lib\\site-packages\\sklearn\\linear_model\\_coordinate_descent.py:628: ConvergenceWarning: Objective did not converge. You might want to increase the number of iterations, check the scale of the features or consider increasing regularisation. Duality gap: 9.683e+05, tolerance: 4.558e+03\n"
     ]
    },
    {
     "data": {
      "text/html": [
       "<div>\n",
       "<style scoped>\n",
       "    .dataframe tbody tr th:only-of-type {\n",
       "        vertical-align: middle;\n",
       "    }\n",
       "\n",
       "    .dataframe tbody tr th {\n",
       "        vertical-align: top;\n",
       "    }\n",
       "\n",
       "    .dataframe thead th {\n",
       "        text-align: right;\n",
       "    }\n",
       "</style>\n",
       "<table border=\"1\" class=\"dataframe\">\n",
       "  <thead>\n",
       "    <tr style=\"text-align: right;\">\n",
       "      <th></th>\n",
       "      <th>lambda</th>\n",
       "      <th>alpha</th>\n",
       "      <th>scores</th>\n",
       "    </tr>\n",
       "  </thead>\n",
       "  <tbody>\n",
       "    <tr>\n",
       "      <th>23</th>\n",
       "      <td>0.1</td>\n",
       "      <td>0.9</td>\n",
       "      <td>118969.493401</td>\n",
       "    </tr>\n",
       "    <tr>\n",
       "      <th>12</th>\n",
       "      <td>0.01</td>\n",
       "      <td>0.1</td>\n",
       "      <td>118973.789477</td>\n",
       "    </tr>\n",
       "    <tr>\n",
       "      <th>22</th>\n",
       "      <td>0.1</td>\n",
       "      <td>0.8</td>\n",
       "      <td>118994.427874</td>\n",
       "    </tr>\n",
       "    <tr>\n",
       "      <th>13</th>\n",
       "      <td>0.01</td>\n",
       "      <td>0.2</td>\n",
       "      <td>118995.938080</td>\n",
       "    </tr>\n",
       "    <tr>\n",
       "      <th>14</th>\n",
       "      <td>0.01</td>\n",
       "      <td>0.4</td>\n",
       "      <td>119067.258302</td>\n",
       "    </tr>\n",
       "  </tbody>\n",
       "</table>\n",
       "</div>"
      ],
      "text/plain": [
       "   lambda alpha         scores\n",
       "23    0.1   0.9  118969.493401\n",
       "12   0.01   0.1  118973.789477\n",
       "22    0.1   0.8  118994.427874\n",
       "13   0.01   0.2  118995.938080\n",
       "14   0.01   0.4  119067.258302"
      ]
     },
     "execution_count": 78,
     "metadata": {},
     "output_type": "execute_result"
    }
   ],
   "source": [
    "#tuning using grid Search\n",
    "params = {'enet_regression__alpha': [.0001, .001, .01, .1, 1, 10],\n",
    "          'enet_regression__l1_ratio': [.1, .2, .4, .6, .8, .9]}\n",
    "\n",
    "gscv = GridSearchCV(enet_pipeline_1, params, cv = 5, scoring='neg_mean_squared_error')\n",
    "\n",
    "gscv_fitted = gscv.fit(X, y)\n",
    "\n",
    "mean_test_scores = gscv_fitted.cv_results_['mean_test_score']\n",
    "alphas = gscv_fitted.cv_results_['param_enet_regression__alpha']\n",
    "ratios = gscv_fitted.cv_results_['param_enet_regression__l1_ratio']\n",
    "\n",
    "# Creating a DataFrame with degrees and scores\n",
    "enet_model_scores = pd.DataFrame(data = {\"lambda\": alphas, \"alpha\": ratios, \"scores\": -(mean_test_scores)}).sort_values(by='scores', ascending=True)\n",
    "enet_model_scores.head()"
   ]
  },
  {
   "cell_type": "markdown",
   "id": "00449227",
   "metadata": {},
   "source": [
    "### 3. Fit the pipeline with your chosen lambda and alpha to the full dataset, and interpret a few of the most important coefficients.\n"
   ]
  },
  {
   "cell_type": "code",
   "execution_count": 79,
   "id": "3e347b61",
   "metadata": {},
   "outputs": [],
   "source": [
    "#Model Specification\n",
    "enet = ElasticNet(alpha = .1, l1_ratio = .9)\n",
    "\n",
    "#putting the preprocessor and model spec in the pipeline\n",
    "enet_pipeline_1 = Pipeline(\n",
    "  [(\"preprocessing\", ct),\n",
    "  (\"enet_regression\", enet)]\n",
    ")"
   ]
  },
  {
   "cell_type": "code",
   "execution_count": 81,
   "id": "0c7bac6e",
   "metadata": {},
   "outputs": [],
   "source": [
    "enet_model = enet_pipeline_1.fit(X,y)\n",
    "enet_model_coef = enet_model.named_steps['enet_regression'].coef_"
   ]
  },
  {
   "cell_type": "code",
   "execution_count": 82,
   "id": "6706bafc",
   "metadata": {},
   "outputs": [
    {
     "data": {
      "text/plain": [
       "array([ -27.87968482,   27.87998427,   60.67059233,  -60.67174945,\n",
       "         11.19158042,  -11.19347297, -231.50781167,  247.5561459 ,\n",
       "          4.47092175,   -5.04166799,    2.38434728,  110.80823488,\n",
       "        -49.54157198, -115.2937114 ,  120.01542462,   55.91505652,\n",
       "        223.03749016,  121.69342971, -154.6688294 ,   77.91853948,\n",
       "         40.73664139,  -24.38898092])"
      ]
     },
     "execution_count": 82,
     "metadata": {},
     "output_type": "execute_result"
    }
   ],
   "source": [
    "enet_model_coef"
   ]
  },
  {
   "cell_type": "code",
   "execution_count": 58,
   "id": "caaab974",
   "metadata": {},
   "outputs": [
    {
     "ename": "NotFittedError",
     "evalue": "This ColumnTransformer instance is not fitted yet. Call 'fit' with appropriate arguments before using this estimator.",
     "output_type": "error",
     "traceback": [
      "\u001b[1;31m---------------------------------------------------------------------------\u001b[0m",
      "\u001b[1;31mNotFittedError\u001b[0m                            Traceback (most recent call last)",
      "Cell \u001b[1;32mIn[58], line 2\u001b[0m\n\u001b[0;32m      1\u001b[0m \u001b[38;5;66;03m# GETTING THE FEATURES OUT\u001b[39;00m\n\u001b[1;32m----> 2\u001b[0m enet_features \u001b[38;5;241m=\u001b[39m ct\u001b[38;5;241m.\u001b[39mget_feature_names_out()\n\u001b[0;32m      4\u001b[0m features_coeff \u001b[38;5;241m=\u001b[39m pd\u001b[38;5;241m.\u001b[39mDataFrame({\u001b[38;5;124m'\u001b[39m\u001b[38;5;124mFeature\u001b[39m\u001b[38;5;124m'\u001b[39m: enet_features, \u001b[38;5;124m'\u001b[39m\u001b[38;5;124mCoefficient\u001b[39m\u001b[38;5;124m'\u001b[39m: enet_model_coef})\n\u001b[0;32m      5\u001b[0m \u001b[38;5;66;03m# Add a new column 'Absolute_Coefficient' to features_coeff\u001b[39;00m\n",
      "File \u001b[1;32m~\\anaconda3\\Lib\\site-packages\\sklearn\\compose\\_column_transformer.py:517\u001b[0m, in \u001b[0;36mColumnTransformer.get_feature_names_out\u001b[1;34m(self, input_features)\u001b[0m\n\u001b[0;32m    497\u001b[0m \u001b[38;5;28;01mdef\u001b[39;00m \u001b[38;5;21mget_feature_names_out\u001b[39m(\u001b[38;5;28mself\u001b[39m, input_features\u001b[38;5;241m=\u001b[39m\u001b[38;5;28;01mNone\u001b[39;00m):\n\u001b[0;32m    498\u001b[0m \u001b[38;5;250m    \u001b[39m\u001b[38;5;124;03m\"\"\"Get output feature names for transformation.\u001b[39;00m\n\u001b[0;32m    499\u001b[0m \n\u001b[0;32m    500\u001b[0m \u001b[38;5;124;03m    Parameters\u001b[39;00m\n\u001b[1;32m   (...)\u001b[0m\n\u001b[0;32m    515\u001b[0m \u001b[38;5;124;03m        Transformed feature names.\u001b[39;00m\n\u001b[0;32m    516\u001b[0m \u001b[38;5;124;03m    \"\"\"\u001b[39;00m\n\u001b[1;32m--> 517\u001b[0m     check_is_fitted(\u001b[38;5;28mself\u001b[39m)\n\u001b[0;32m    518\u001b[0m     input_features \u001b[38;5;241m=\u001b[39m _check_feature_names_in(\u001b[38;5;28mself\u001b[39m, input_features)\n\u001b[0;32m    520\u001b[0m     \u001b[38;5;66;03m# List of tuples (name, feature_names_out)\u001b[39;00m\n",
      "File \u001b[1;32m~\\anaconda3\\Lib\\site-packages\\sklearn\\utils\\validation.py:1462\u001b[0m, in \u001b[0;36mcheck_is_fitted\u001b[1;34m(estimator, attributes, msg, all_or_any)\u001b[0m\n\u001b[0;32m   1459\u001b[0m     \u001b[38;5;28;01mraise\u001b[39;00m \u001b[38;5;167;01mTypeError\u001b[39;00m(\u001b[38;5;124m\"\u001b[39m\u001b[38;5;132;01m%s\u001b[39;00m\u001b[38;5;124m is not an estimator instance.\u001b[39m\u001b[38;5;124m\"\u001b[39m \u001b[38;5;241m%\u001b[39m (estimator))\n\u001b[0;32m   1461\u001b[0m \u001b[38;5;28;01mif\u001b[39;00m \u001b[38;5;129;01mnot\u001b[39;00m _is_fitted(estimator, attributes, all_or_any):\n\u001b[1;32m-> 1462\u001b[0m     \u001b[38;5;28;01mraise\u001b[39;00m NotFittedError(msg \u001b[38;5;241m%\u001b[39m {\u001b[38;5;124m\"\u001b[39m\u001b[38;5;124mname\u001b[39m\u001b[38;5;124m\"\u001b[39m: \u001b[38;5;28mtype\u001b[39m(estimator)\u001b[38;5;241m.\u001b[39m\u001b[38;5;18m__name__\u001b[39m})\n",
      "\u001b[1;31mNotFittedError\u001b[0m: This ColumnTransformer instance is not fitted yet. Call 'fit' with appropriate arguments before using this estimator."
     ]
    }
   ],
   "source": [
    "# GETTING THE FEATURES OUT\n",
    "enet_features = ct.get_feature_names_out()\n",
    "\n",
    "features_coeff = pd.DataFrame({'Feature': enet_features, 'Coefficient': enet_model_coef})\n",
    "# Add a new column 'Absolute_Coefficient' to features_coeff\n",
    "features_coeff['Absolute_Coefficient'] = features_coeff['Coefficient'].abs()\n",
    "features_coeff.sort_values(by='Absolute_Coefficient', ascending=False).head()"
   ]
  },
  {
   "cell_type": "markdown",
   "id": "3fa3f70e",
   "metadata": {},
   "source": [
    "- With one unit increase in standard deviations the number of hits here has the greatest effect with a positive effect on Salary of 248 in salary standard deviations.\n",
    "- Notably as well, for a one unit increase in standard deviation in the number of times at bat for the season salary can be expected to decrease by 232 standard deviations.\n",
    "- A one unit standard deviation increase in the number of runs in their overall career has a positive effect on salary of 223 standard deviations."
   ]
  },
  {
   "cell_type": "markdown",
   "id": "9a7719df",
   "metadata": {},
   "source": [
    "### 4.Report the MSE you would expect if you used this pipeline to predict 1989 salaries."
   ]
  },
  {
   "cell_type": "markdown",
   "id": "be23e482",
   "metadata": {},
   "source": [
    "Per the tuning, we can reasonably expect this model to have an MSE of 118969.493401 when used to predict 1989 salaries."
   ]
  },
  {
   "cell_type": "markdown",
   "id": "d3a724b3",
   "metadata": {},
   "source": [
    "# Part II. Variable Selection\n",
    "---"
   ]
  },
  {
   "cell_type": "markdown",
   "id": "804c20e0",
   "metadata": {},
   "source": [
    "Based on the above results, decide on:"
   ]
  },
  {
   "cell_type": "markdown",
   "id": "54564551",
   "metadata": {},
   "source": [
    "## A. Which numeric variable is most important."
   ]
  },
  {
   "cell_type": "markdown",
   "id": "fc7108b4",
   "metadata": {},
   "source": [
    "According to our best model, which was the Elastic Net model specification, Hits, or the number of hits during that year is the one that has the greatest effect on Salary. It's effect on salary is for every one unit increase in the number of hits, we can expect the salary to increase by 248 on average."
   ]
  },
  {
   "cell_type": "markdown",
   "id": "975972ce",
   "metadata": {},
   "source": [
    "## B. Which five numeric variables are most important."
   ]
  },
  {
   "cell_type": "code",
   "execution_count": 24,
   "id": "6e06a2c8",
   "metadata": {},
   "outputs": [
    {
     "data": {
      "text/html": [
       "<div>\n",
       "<style scoped>\n",
       "    .dataframe tbody tr th:only-of-type {\n",
       "        vertical-align: middle;\n",
       "    }\n",
       "\n",
       "    .dataframe tbody tr th {\n",
       "        vertical-align: top;\n",
       "    }\n",
       "\n",
       "    .dataframe thead th {\n",
       "        text-align: right;\n",
       "    }\n",
       "</style>\n",
       "<table border=\"1\" class=\"dataframe\">\n",
       "  <thead>\n",
       "    <tr style=\"text-align: right;\">\n",
       "      <th></th>\n",
       "      <th>Feature</th>\n",
       "      <th>Coefficient</th>\n",
       "      <th>Absolute_Coefficient</th>\n",
       "    </tr>\n",
       "  </thead>\n",
       "  <tbody>\n",
       "    <tr>\n",
       "      <th>7</th>\n",
       "      <td>standardize__Hits</td>\n",
       "      <td>247.556146</td>\n",
       "      <td>247.556146</td>\n",
       "    </tr>\n",
       "    <tr>\n",
       "      <th>6</th>\n",
       "      <td>standardize__AtBat</td>\n",
       "      <td>-231.507812</td>\n",
       "      <td>231.507812</td>\n",
       "    </tr>\n",
       "    <tr>\n",
       "      <th>16</th>\n",
       "      <td>standardize__CRuns</td>\n",
       "      <td>223.037490</td>\n",
       "      <td>223.037490</td>\n",
       "    </tr>\n",
       "    <tr>\n",
       "      <th>18</th>\n",
       "      <td>standardize__CWalks</td>\n",
       "      <td>-154.668829</td>\n",
       "      <td>154.668829</td>\n",
       "    </tr>\n",
       "    <tr>\n",
       "      <th>17</th>\n",
       "      <td>standardize__CRBI</td>\n",
       "      <td>121.693430</td>\n",
       "      <td>121.693430</td>\n",
       "    </tr>\n",
       "  </tbody>\n",
       "</table>\n",
       "</div>"
      ],
      "text/plain": [
       "                Feature  Coefficient  Absolute_Coefficient\n",
       "7     standardize__Hits   247.556146            247.556146\n",
       "6    standardize__AtBat  -231.507812            231.507812\n",
       "16   standardize__CRuns   223.037490            223.037490\n",
       "18  standardize__CWalks  -154.668829            154.668829\n",
       "17    standardize__CRBI   121.693430            121.693430"
      ]
     },
     "execution_count": 24,
     "metadata": {},
     "output_type": "execute_result"
    }
   ],
   "source": [
    "features_coeff.sort_values(by='Absolute_Coefficient', ascending=False)[0:5]"
   ]
  },
  {
   "cell_type": "markdown",
   "id": "95a6306a",
   "metadata": {},
   "source": [
    "\n",
    "### Five most important numeric variables\n",
    "- HITS: with one standard deviation increase in hits we expect an increase of 248 standard deviation increase to salary.\n",
    "- AtBat: with one standard deviation increase in the number of times at bat for a player the salary is expected to decrease by 232 standard deviations.\n",
    "- CRuns: with one standard deviation increase in the number of runs in a players career we expect salary to increase by 223 standard deviations.\n",
    "- CWalks: with one standard deviation incrase to the number of walks in a players career we expect a salary decrease of 155 stanard deviations.\n",
    "- CRBI: with a one standard deviation increase to  the number of runs batted in during his career a players salary can be expected to increase by 122 standard deviations."
   ]
  },
  {
   "cell_type": "markdown",
   "id": "91ceccc6",
   "metadata": {},
   "source": [
    "## C. Which Categorical variable is most important."
   ]
  },
  {
   "cell_type": "code",
   "execution_count": 25,
   "id": "1de6ab3c",
   "metadata": {},
   "outputs": [
    {
     "data": {
      "text/html": [
       "<div>\n",
       "<style scoped>\n",
       "    .dataframe tbody tr th:only-of-type {\n",
       "        vertical-align: middle;\n",
       "    }\n",
       "\n",
       "    .dataframe tbody tr th {\n",
       "        vertical-align: top;\n",
       "    }\n",
       "\n",
       "    .dataframe thead th {\n",
       "        text-align: right;\n",
       "    }\n",
       "</style>\n",
       "<table border=\"1\" class=\"dataframe\">\n",
       "  <thead>\n",
       "    <tr style=\"text-align: right;\">\n",
       "      <th></th>\n",
       "      <th>Feature</th>\n",
       "      <th>Coefficient</th>\n",
       "      <th>Absolute_Coefficient</th>\n",
       "    </tr>\n",
       "  </thead>\n",
       "  <tbody>\n",
       "    <tr>\n",
       "      <th>7</th>\n",
       "      <td>standardize__Hits</td>\n",
       "      <td>247.556146</td>\n",
       "      <td>247.556146</td>\n",
       "    </tr>\n",
       "    <tr>\n",
       "      <th>6</th>\n",
       "      <td>standardize__AtBat</td>\n",
       "      <td>-231.507812</td>\n",
       "      <td>231.507812</td>\n",
       "    </tr>\n",
       "    <tr>\n",
       "      <th>16</th>\n",
       "      <td>standardize__CRuns</td>\n",
       "      <td>223.037490</td>\n",
       "      <td>223.037490</td>\n",
       "    </tr>\n",
       "    <tr>\n",
       "      <th>18</th>\n",
       "      <td>standardize__CWalks</td>\n",
       "      <td>-154.668829</td>\n",
       "      <td>154.668829</td>\n",
       "    </tr>\n",
       "    <tr>\n",
       "      <th>17</th>\n",
       "      <td>standardize__CRBI</td>\n",
       "      <td>121.693430</td>\n",
       "      <td>121.693430</td>\n",
       "    </tr>\n",
       "    <tr>\n",
       "      <th>14</th>\n",
       "      <td>standardize__CHits</td>\n",
       "      <td>120.015425</td>\n",
       "      <td>120.015425</td>\n",
       "    </tr>\n",
       "    <tr>\n",
       "      <th>13</th>\n",
       "      <td>standardize__CAtBat</td>\n",
       "      <td>-115.293711</td>\n",
       "      <td>115.293711</td>\n",
       "    </tr>\n",
       "    <tr>\n",
       "      <th>11</th>\n",
       "      <td>standardize__Walks</td>\n",
       "      <td>110.808235</td>\n",
       "      <td>110.808235</td>\n",
       "    </tr>\n",
       "    <tr>\n",
       "      <th>19</th>\n",
       "      <td>standardize__PutOuts</td>\n",
       "      <td>77.918539</td>\n",
       "      <td>77.918539</td>\n",
       "    </tr>\n",
       "    <tr>\n",
       "      <th>3</th>\n",
       "      <td>dummify__Division_W</td>\n",
       "      <td>-60.671749</td>\n",
       "      <td>60.671749</td>\n",
       "    </tr>\n",
       "    <tr>\n",
       "      <th>2</th>\n",
       "      <td>dummify__Division_E</td>\n",
       "      <td>60.670592</td>\n",
       "      <td>60.670592</td>\n",
       "    </tr>\n",
       "    <tr>\n",
       "      <th>15</th>\n",
       "      <td>standardize__CHmRun</td>\n",
       "      <td>55.915057</td>\n",
       "      <td>55.915057</td>\n",
       "    </tr>\n",
       "    <tr>\n",
       "      <th>12</th>\n",
       "      <td>standardize__Years</td>\n",
       "      <td>-49.541572</td>\n",
       "      <td>49.541572</td>\n",
       "    </tr>\n",
       "    <tr>\n",
       "      <th>20</th>\n",
       "      <td>standardize__Assists</td>\n",
       "      <td>40.736641</td>\n",
       "      <td>40.736641</td>\n",
       "    </tr>\n",
       "    <tr>\n",
       "      <th>1</th>\n",
       "      <td>dummify__League_N</td>\n",
       "      <td>27.879984</td>\n",
       "      <td>27.879984</td>\n",
       "    </tr>\n",
       "    <tr>\n",
       "      <th>0</th>\n",
       "      <td>dummify__League_A</td>\n",
       "      <td>-27.879685</td>\n",
       "      <td>27.879685</td>\n",
       "    </tr>\n",
       "    <tr>\n",
       "      <th>21</th>\n",
       "      <td>standardize__Errors</td>\n",
       "      <td>-24.388981</td>\n",
       "      <td>24.388981</td>\n",
       "    </tr>\n",
       "    <tr>\n",
       "      <th>5</th>\n",
       "      <td>dummify__NewLeague_N</td>\n",
       "      <td>-11.193473</td>\n",
       "      <td>11.193473</td>\n",
       "    </tr>\n",
       "    <tr>\n",
       "      <th>4</th>\n",
       "      <td>dummify__NewLeague_A</td>\n",
       "      <td>11.191580</td>\n",
       "      <td>11.191580</td>\n",
       "    </tr>\n",
       "    <tr>\n",
       "      <th>9</th>\n",
       "      <td>standardize__Runs</td>\n",
       "      <td>-5.041668</td>\n",
       "      <td>5.041668</td>\n",
       "    </tr>\n",
       "    <tr>\n",
       "      <th>8</th>\n",
       "      <td>standardize__HmRun</td>\n",
       "      <td>4.470922</td>\n",
       "      <td>4.470922</td>\n",
       "    </tr>\n",
       "    <tr>\n",
       "      <th>10</th>\n",
       "      <td>standardize__RBI</td>\n",
       "      <td>2.384347</td>\n",
       "      <td>2.384347</td>\n",
       "    </tr>\n",
       "  </tbody>\n",
       "</table>\n",
       "</div>"
      ],
      "text/plain": [
       "                 Feature  Coefficient  Absolute_Coefficient\n",
       "7      standardize__Hits   247.556146            247.556146\n",
       "6     standardize__AtBat  -231.507812            231.507812\n",
       "16    standardize__CRuns   223.037490            223.037490\n",
       "18   standardize__CWalks  -154.668829            154.668829\n",
       "17     standardize__CRBI   121.693430            121.693430\n",
       "14    standardize__CHits   120.015425            120.015425\n",
       "13   standardize__CAtBat  -115.293711            115.293711\n",
       "11    standardize__Walks   110.808235            110.808235\n",
       "19  standardize__PutOuts    77.918539             77.918539\n",
       "3    dummify__Division_W   -60.671749             60.671749\n",
       "2    dummify__Division_E    60.670592             60.670592\n",
       "15   standardize__CHmRun    55.915057             55.915057\n",
       "12    standardize__Years   -49.541572             49.541572\n",
       "20  standardize__Assists    40.736641             40.736641\n",
       "1      dummify__League_N    27.879984             27.879984\n",
       "0      dummify__League_A   -27.879685             27.879685\n",
       "21   standardize__Errors   -24.388981             24.388981\n",
       "5   dummify__NewLeague_N   -11.193473             11.193473\n",
       "4   dummify__NewLeague_A    11.191580             11.191580\n",
       "9      standardize__Runs    -5.041668              5.041668\n",
       "8     standardize__HmRun     4.470922              4.470922\n",
       "10      standardize__RBI     2.384347              2.384347"
      ]
     },
     "execution_count": 25,
     "metadata": {},
     "output_type": "execute_result"
    }
   ],
   "source": [
    "features_coeff.sort_values(by='Absolute_Coefficient', ascending=False)"
   ]
  },
  {
   "cell_type": "markdown",
   "id": "793ef2db",
   "metadata": {},
   "source": [
    "### Most important categorical variable\n",
    "In terms of their effects on salary, the most important categorical variable according to the Elastic Net model is Division with W having a positive effect on salary of 60 and E having a negative effect on salary of 60. "
   ]
  },
  {
   "cell_type": "markdown",
   "id": "218e6c43",
   "metadata": {},
   "source": [
    "## D. For each of the four model specifications, compare the following possible feature sets:"
   ]
  },
  {
   "cell_type": "markdown",
   "id": "df8d3296",
   "metadata": {},
   "source": [
    "### 1. Using only the one best numeric variable.\n",
    "---"
   ]
  },
  {
   "cell_type": "code",
   "execution_count": 26,
   "id": "ad674a42",
   "metadata": {},
   "outputs": [],
   "source": [
    "# Setting up the X and Y, predicting Salary with the most important predictor variable\n",
    "X = hitters[[\"Hits\"]] #note these were dropped, as order is an idex and pID is key id\n",
    "y = hitters[\"Salary\"]"
   ]
  },
  {
   "cell_type": "markdown",
   "id": "6201410d",
   "metadata": {},
   "source": [
    "#### OLS"
   ]
  },
  {
   "cell_type": "code",
   "execution_count": 27,
   "id": "d88e27a4",
   "metadata": {},
   "outputs": [],
   "source": [
    "#Preprocessor as a column transformer that dumifies, standardizes.\n",
    "ct = ColumnTransformer(\n",
    "  [(\"standardize\",\n",
    "    StandardScaler(),[\"Hits\"]) #this one returns all columns that have numbers\n",
    "  ],\n",
    "  remainder = \"passthrough\" # we are doing this because we are keeping all the other variables\n",
    ")\n",
    "\n",
    "#putting the preprocessor and model spec in the pipeline creation\n",
    "lr_pipeline_1 = Pipeline(\n",
    "  [(\"preprocessing\", ct),\n",
    "  (\"linear_regression\", LinearRegression())]\n",
    ")"
   ]
  },
  {
   "cell_type": "code",
   "execution_count": 28,
   "id": "be04e75c",
   "metadata": {},
   "outputs": [
    {
     "data": {
      "text/plain": [
       "173088.9728644403"
      ]
     },
     "execution_count": 28,
     "metadata": {},
     "output_type": "execute_result"
    }
   ],
   "source": [
    "#cross validation and metric\n",
    "ols_MSE_scores = cross_val_score(lr_pipeline_1, X, y, cv=5, scoring='neg_mean_squared_error')\n",
    "\n",
    "# Calculate the positive mean of the negative MSE scores\n",
    "ols_mean_MSE = -np.mean(ols_MSE_scores)\n",
    "\n",
    "ols_mean_MSE"
   ]
  },
  {
   "cell_type": "markdown",
   "id": "59580d9e",
   "metadata": {},
   "source": [
    "#### Ridge"
   ]
  },
  {
   "cell_type": "code",
   "execution_count": 29,
   "id": "8fa6ff86",
   "metadata": {},
   "outputs": [],
   "source": [
    "#Model Specification\n",
    "ridge = Ridge()\n",
    "\n",
    "#putting the preprocessor and model spec in the pipeline\n",
    "ridge_pipeline_1 = Pipeline(\n",
    "  [(\"preprocessing\", ct),\n",
    "  (\"ridge_regression\", ridge)]\n",
    ")"
   ]
  },
  {
   "cell_type": "code",
   "execution_count": 30,
   "id": "6abe525b",
   "metadata": {},
   "outputs": [
    {
     "data": {
      "text/html": [
       "<div>\n",
       "<style scoped>\n",
       "    .dataframe tbody tr th:only-of-type {\n",
       "        vertical-align: middle;\n",
       "    }\n",
       "\n",
       "    .dataframe tbody tr th {\n",
       "        vertical-align: top;\n",
       "    }\n",
       "\n",
       "    .dataframe thead th {\n",
       "        text-align: right;\n",
       "    }\n",
       "</style>\n",
       "<table border=\"1\" class=\"dataframe\">\n",
       "  <thead>\n",
       "    <tr style=\"text-align: right;\">\n",
       "      <th></th>\n",
       "      <th>lambdas</th>\n",
       "      <th>scores</th>\n",
       "    </tr>\n",
       "  </thead>\n",
       "  <tbody>\n",
       "    <tr>\n",
       "      <th>5</th>\n",
       "      <td>10</td>\n",
       "      <td>172755.975523</td>\n",
       "    </tr>\n",
       "    <tr>\n",
       "      <th>4</th>\n",
       "      <td>1</td>\n",
       "      <td>173046.230311</td>\n",
       "    </tr>\n",
       "    <tr>\n",
       "      <th>3</th>\n",
       "      <td>0.1</td>\n",
       "      <td>173084.595954</td>\n",
       "    </tr>\n",
       "    <tr>\n",
       "      <th>2</th>\n",
       "      <td>0.01</td>\n",
       "      <td>173088.534138</td>\n",
       "    </tr>\n",
       "    <tr>\n",
       "      <th>1</th>\n",
       "      <td>0.001</td>\n",
       "      <td>173088.928981</td>\n",
       "    </tr>\n",
       "    <tr>\n",
       "      <th>0</th>\n",
       "      <td>0.0001</td>\n",
       "      <td>173088.968476</td>\n",
       "    </tr>\n",
       "  </tbody>\n",
       "</table>\n",
       "</div>"
      ],
      "text/plain": [
       "  lambdas         scores\n",
       "5      10  172755.975523\n",
       "4       1  173046.230311\n",
       "3     0.1  173084.595954\n",
       "2    0.01  173088.534138\n",
       "1   0.001  173088.928981\n",
       "0  0.0001  173088.968476"
      ]
     },
     "execution_count": 30,
     "metadata": {},
     "output_type": "execute_result"
    }
   ],
   "source": [
    "#tuning using grid Search\n",
    "alpha = {'ridge_regression__alpha': [.0001, .001, .01, .1, 1, 10]}\n",
    "\n",
    "gscv = GridSearchCV(ridge_pipeline_1, alpha, cv = 5, scoring='neg_mean_squared_error')\n",
    "\n",
    "gscv_fitted = gscv.fit(X, y)\n",
    "\n",
    "mean_test_scores = gscv_fitted.cv_results_['mean_test_score']\n",
    "alphas = gscv_fitted.cv_results_['param_ridge_regression__alpha']\n",
    "\n",
    "# Creating a DataFrame with degrees and scores\n",
    "ridge_model_scores = pd.DataFrame(data = {\"lambdas\": alphas, \"scores\": -(mean_test_scores)}).sort_values(by='scores', ascending=True)\n",
    "ridge_model_scores"
   ]
  },
  {
   "cell_type": "markdown",
   "id": "abc48ddd",
   "metadata": {},
   "source": [
    "#### LASSO"
   ]
  },
  {
   "cell_type": "code",
   "execution_count": 31,
   "id": "4b3d6224",
   "metadata": {},
   "outputs": [],
   "source": [
    "#Model Specification\n",
    "lasso = Lasso()\n",
    "\n",
    "#putting the preprocessor and model spec in the pipeline\n",
    "lasso_pipeline_1 = Pipeline(\n",
    "  [(\"preprocessing\", ct),\n",
    "  (\"lasso_regression\", lasso)]\n",
    ")"
   ]
  },
  {
   "cell_type": "code",
   "execution_count": 32,
   "id": "9027803b",
   "metadata": {},
   "outputs": [
    {
     "data": {
      "text/html": [
       "<div>\n",
       "<style scoped>\n",
       "    .dataframe tbody tr th:only-of-type {\n",
       "        vertical-align: middle;\n",
       "    }\n",
       "\n",
       "    .dataframe tbody tr th {\n",
       "        vertical-align: top;\n",
       "    }\n",
       "\n",
       "    .dataframe thead th {\n",
       "        text-align: right;\n",
       "    }\n",
       "</style>\n",
       "<table border=\"1\" class=\"dataframe\">\n",
       "  <thead>\n",
       "    <tr style=\"text-align: right;\">\n",
       "      <th></th>\n",
       "      <th>lambda</th>\n",
       "      <th>scores</th>\n",
       "    </tr>\n",
       "  </thead>\n",
       "  <tbody>\n",
       "    <tr>\n",
       "      <th>5</th>\n",
       "      <td>10</td>\n",
       "      <td>173061.634500</td>\n",
       "    </tr>\n",
       "    <tr>\n",
       "      <th>4</th>\n",
       "      <td>1</td>\n",
       "      <td>173076.934306</td>\n",
       "    </tr>\n",
       "    <tr>\n",
       "      <th>3</th>\n",
       "      <td>0.1</td>\n",
       "      <td>173087.675961</td>\n",
       "    </tr>\n",
       "    <tr>\n",
       "      <th>2</th>\n",
       "      <td>0.01</td>\n",
       "      <td>173088.842244</td>\n",
       "    </tr>\n",
       "    <tr>\n",
       "      <th>1</th>\n",
       "      <td>0.001</td>\n",
       "      <td>173088.959793</td>\n",
       "    </tr>\n",
       "    <tr>\n",
       "      <th>0</th>\n",
       "      <td>0.0001</td>\n",
       "      <td>173088.971557</td>\n",
       "    </tr>\n",
       "  </tbody>\n",
       "</table>\n",
       "</div>"
      ],
      "text/plain": [
       "   lambda         scores\n",
       "5      10  173061.634500\n",
       "4       1  173076.934306\n",
       "3     0.1  173087.675961\n",
       "2    0.01  173088.842244\n",
       "1   0.001  173088.959793\n",
       "0  0.0001  173088.971557"
      ]
     },
     "execution_count": 32,
     "metadata": {},
     "output_type": "execute_result"
    }
   ],
   "source": [
    "#tuning using grid Search\n",
    "alpha = {'lasso_regression__alpha': [.0001, .001, .01, .1, 1, 10]}\n",
    "\n",
    "gscv = GridSearchCV(lasso_pipeline_1, alpha, cv = 5, scoring='neg_mean_squared_error')\n",
    "\n",
    "gscv_fitted = gscv.fit(X, y)\n",
    "\n",
    "mean_test_scores = gscv_fitted.cv_results_['mean_test_score']\n",
    "alphas = gscv_fitted.cv_results_['param_lasso_regression__alpha']\n",
    "\n",
    "# Creating a DataFrame with degrees and scores\n",
    "lasso_model_scores = pd.DataFrame(data = {\"lambda\": alphas, \"scores\": -(mean_test_scores)}).sort_values(by='scores', ascending=True)\n",
    "lasso_model_scores"
   ]
  },
  {
   "cell_type": "markdown",
   "id": "2ed30ebf",
   "metadata": {},
   "source": [
    "#### Elastic Net"
   ]
  },
  {
   "cell_type": "code",
   "execution_count": 33,
   "id": "a831f516",
   "metadata": {},
   "outputs": [],
   "source": [
    "#Model Specification\n",
    "enet = ElasticNet()\n",
    "\n",
    "#putting the preprocessor and model spec in the pipeline\n",
    "enet_pipeline_1 = Pipeline(\n",
    "  [(\"preprocessing\", ct),\n",
    "  (\"enet_regression\", enet)]\n",
    ")"
   ]
  },
  {
   "cell_type": "code",
   "execution_count": 34,
   "id": "aaba5ea4",
   "metadata": {},
   "outputs": [
    {
     "data": {
      "text/html": [
       "<div>\n",
       "<style scoped>\n",
       "    .dataframe tbody tr th:only-of-type {\n",
       "        vertical-align: middle;\n",
       "    }\n",
       "\n",
       "    .dataframe tbody tr th {\n",
       "        vertical-align: top;\n",
       "    }\n",
       "\n",
       "    .dataframe thead th {\n",
       "        text-align: right;\n",
       "    }\n",
       "</style>\n",
       "<table border=\"1\" class=\"dataframe\">\n",
       "  <thead>\n",
       "    <tr style=\"text-align: right;\">\n",
       "      <th></th>\n",
       "      <th>lambda</th>\n",
       "      <th>alpha</th>\n",
       "      <th>scores</th>\n",
       "    </tr>\n",
       "  </thead>\n",
       "  <tbody>\n",
       "    <tr>\n",
       "      <th>18</th>\n",
       "      <td>0.1</td>\n",
       "      <td>0.1</td>\n",
       "      <td>172603.554302</td>\n",
       "    </tr>\n",
       "    <tr>\n",
       "      <th>29</th>\n",
       "      <td>1</td>\n",
       "      <td>0.9</td>\n",
       "      <td>172606.813461</td>\n",
       "    </tr>\n",
       "    <tr>\n",
       "      <th>19</th>\n",
       "      <td>0.1</td>\n",
       "      <td>0.2</td>\n",
       "      <td>172627.281786</td>\n",
       "    </tr>\n",
       "    <tr>\n",
       "      <th>20</th>\n",
       "      <td>0.1</td>\n",
       "      <td>0.4</td>\n",
       "      <td>172694.880290</td>\n",
       "    </tr>\n",
       "    <tr>\n",
       "      <th>28</th>\n",
       "      <td>1</td>\n",
       "      <td>0.8</td>\n",
       "      <td>172733.690497</td>\n",
       "    </tr>\n",
       "  </tbody>\n",
       "</table>\n",
       "</div>"
      ],
      "text/plain": [
       "   lambda alpha         scores\n",
       "18    0.1   0.1  172603.554302\n",
       "29      1   0.9  172606.813461\n",
       "19    0.1   0.2  172627.281786\n",
       "20    0.1   0.4  172694.880290\n",
       "28      1   0.8  172733.690497"
      ]
     },
     "execution_count": 34,
     "metadata": {},
     "output_type": "execute_result"
    }
   ],
   "source": [
    "#tuning using grid Search\n",
    "params = {'enet_regression__alpha': [.0001, .001, .01, .1, 1, 10],\n",
    "          'enet_regression__l1_ratio': [.1, .2, .4, .6, .8, .9]}\n",
    "\n",
    "gscv = GridSearchCV(enet_pipeline_1, params, cv = 5, scoring='neg_mean_squared_error')\n",
    "\n",
    "gscv_fitted = gscv.fit(X, y)\n",
    "\n",
    "mean_test_scores = gscv_fitted.cv_results_['mean_test_score']\n",
    "alphas = gscv_fitted.cv_results_['param_enet_regression__alpha']\n",
    "ratios = gscv_fitted.cv_results_['param_enet_regression__l1_ratio']\n",
    "\n",
    "# Creating a DataFrame with degrees and scores\n",
    "enet_model_scores = pd.DataFrame(data = {\"lambda\": alphas, \"alpha\": ratios, \"scores\": -(mean_test_scores)}).sort_values(by='scores', ascending=True)\n",
    "enet_model_scores.head()"
   ]
  },
  {
   "cell_type": "markdown",
   "id": "f29490d9",
   "metadata": {},
   "source": [
    "Elastic Net with lambda .1 and alpha .1 was the best when only using the best predictor variable"
   ]
  },
  {
   "cell_type": "markdown",
   "id": "6e811d7b",
   "metadata": {},
   "source": [
    "### 2. Using only the five best variables."
   ]
  },
  {
   "cell_type": "markdown",
   "id": "9f1f0c2d",
   "metadata": {},
   "source": [
    "#### OLS Top 5"
   ]
  },
  {
   "cell_type": "code",
   "execution_count": 35,
   "id": "81f93bad",
   "metadata": {},
   "outputs": [
    {
     "data": {
      "text/html": [
       "<div>\n",
       "<style scoped>\n",
       "    .dataframe tbody tr th:only-of-type {\n",
       "        vertical-align: middle;\n",
       "    }\n",
       "\n",
       "    .dataframe tbody tr th {\n",
       "        vertical-align: top;\n",
       "    }\n",
       "\n",
       "    .dataframe thead th {\n",
       "        text-align: right;\n",
       "    }\n",
       "</style>\n",
       "<table border=\"1\" class=\"dataframe\">\n",
       "  <thead>\n",
       "    <tr style=\"text-align: right;\">\n",
       "      <th></th>\n",
       "      <th>Feature</th>\n",
       "      <th>Coefficient</th>\n",
       "      <th>Absolute_Coefficient</th>\n",
       "    </tr>\n",
       "  </thead>\n",
       "  <tbody>\n",
       "    <tr>\n",
       "      <th>7</th>\n",
       "      <td>standardize__Hits</td>\n",
       "      <td>247.556146</td>\n",
       "      <td>247.556146</td>\n",
       "    </tr>\n",
       "    <tr>\n",
       "      <th>6</th>\n",
       "      <td>standardize__AtBat</td>\n",
       "      <td>-231.507812</td>\n",
       "      <td>231.507812</td>\n",
       "    </tr>\n",
       "    <tr>\n",
       "      <th>16</th>\n",
       "      <td>standardize__CRuns</td>\n",
       "      <td>223.037490</td>\n",
       "      <td>223.037490</td>\n",
       "    </tr>\n",
       "    <tr>\n",
       "      <th>18</th>\n",
       "      <td>standardize__CWalks</td>\n",
       "      <td>-154.668829</td>\n",
       "      <td>154.668829</td>\n",
       "    </tr>\n",
       "    <tr>\n",
       "      <th>17</th>\n",
       "      <td>standardize__CRBI</td>\n",
       "      <td>121.693430</td>\n",
       "      <td>121.693430</td>\n",
       "    </tr>\n",
       "  </tbody>\n",
       "</table>\n",
       "</div>"
      ],
      "text/plain": [
       "                Feature  Coefficient  Absolute_Coefficient\n",
       "7     standardize__Hits   247.556146            247.556146\n",
       "6    standardize__AtBat  -231.507812            231.507812\n",
       "16   standardize__CRuns   223.037490            223.037490\n",
       "18  standardize__CWalks  -154.668829            154.668829\n",
       "17    standardize__CRBI   121.693430            121.693430"
      ]
     },
     "execution_count": 35,
     "metadata": {},
     "output_type": "execute_result"
    }
   ],
   "source": [
    "features_coeff.sort_values(by='Absolute_Coefficient', ascending=False)[0:5]"
   ]
  },
  {
   "cell_type": "code",
   "execution_count": 36,
   "id": "5fb40b26",
   "metadata": {},
   "outputs": [],
   "source": [
    "# Setting up the X and Y, predicting Salary with the 5 most important predictor variables\n",
    "X = hitters[[\"Hits\", \"AtBat\",\"CRuns\",\"CWalks\",\"CRBI\"]] #note these were dropped, as order is an idex and pID is key id\n",
    "y = hitters[\"Salary\"]"
   ]
  },
  {
   "cell_type": "code",
   "execution_count": 37,
   "id": "64d09e53",
   "metadata": {},
   "outputs": [
    {
     "data": {
      "text/plain": [
       "125502.85287637592"
      ]
     },
     "execution_count": 37,
     "metadata": {},
     "output_type": "execute_result"
    }
   ],
   "source": [
    "#Preprocessor as a column transformer that dumifies, standardizes.\n",
    "ct = ColumnTransformer(\n",
    "  [(\"standardize\",\n",
    "    StandardScaler(),[\"Hits\", \"AtBat\",\"CRuns\",\"CWalks\",\"CRBI\"]) #this one returns all columns that have numbers\n",
    "  ],\n",
    "  remainder = \"passthrough\" # we are doing this because we are keeping all the other variables\n",
    ")\n",
    "\n",
    "#putting the preprocessor and model spec in the pipeline creation\n",
    "lr_pipeline_1 = Pipeline(\n",
    "  [(\"preprocessing\", ct),\n",
    "  (\"linear_regression\", LinearRegression())]\n",
    ")\n",
    "\n",
    "#cross validation and metric\n",
    "ols_MSE_scores = cross_val_score(lr_pipeline_1, X, y, cv=5, scoring='neg_mean_squared_error')\n",
    "\n",
    "# Calculate the positive mean of the negative MSE scores\n",
    "ols_mean_MSE = -np.mean(ols_MSE_scores)\n",
    "\n",
    "ols_mean_MSE"
   ]
  },
  {
   "cell_type": "markdown",
   "id": "584c3f59",
   "metadata": {},
   "source": [
    "#### Ridge Top 5"
   ]
  },
  {
   "cell_type": "code",
   "execution_count": 38,
   "id": "60e6265b",
   "metadata": {},
   "outputs": [],
   "source": [
    "#Model Specification\n",
    "ridge = Ridge()\n",
    "\n",
    "#putting the preprocessor and model spec in the pipeline\n",
    "ridge_pipeline_1 = Pipeline(\n",
    "  [(\"preprocessing\", ct),\n",
    "  (\"ridge_regression\", ridge)]\n",
    ")"
   ]
  },
  {
   "cell_type": "code",
   "execution_count": 39,
   "id": "58960b19",
   "metadata": {},
   "outputs": [
    {
     "data": {
      "text/html": [
       "<div>\n",
       "<style scoped>\n",
       "    .dataframe tbody tr th:only-of-type {\n",
       "        vertical-align: middle;\n",
       "    }\n",
       "\n",
       "    .dataframe tbody tr th {\n",
       "        vertical-align: top;\n",
       "    }\n",
       "\n",
       "    .dataframe thead th {\n",
       "        text-align: right;\n",
       "    }\n",
       "</style>\n",
       "<table border=\"1\" class=\"dataframe\">\n",
       "  <thead>\n",
       "    <tr style=\"text-align: right;\">\n",
       "      <th></th>\n",
       "      <th>lambdas</th>\n",
       "      <th>scores</th>\n",
       "    </tr>\n",
       "  </thead>\n",
       "  <tbody>\n",
       "    <tr>\n",
       "      <th>4</th>\n",
       "      <td>1</td>\n",
       "      <td>125142.787641</td>\n",
       "    </tr>\n",
       "    <tr>\n",
       "      <th>5</th>\n",
       "      <td>10</td>\n",
       "      <td>125412.154870</td>\n",
       "    </tr>\n",
       "    <tr>\n",
       "      <th>3</th>\n",
       "      <td>0.1</td>\n",
       "      <td>125452.540281</td>\n",
       "    </tr>\n",
       "    <tr>\n",
       "      <th>2</th>\n",
       "      <td>0.01</td>\n",
       "      <td>125497.642843</td>\n",
       "    </tr>\n",
       "    <tr>\n",
       "      <th>1</th>\n",
       "      <td>0.001</td>\n",
       "      <td>125502.330042</td>\n",
       "    </tr>\n",
       "    <tr>\n",
       "      <th>0</th>\n",
       "      <td>0.0001</td>\n",
       "      <td>125502.800575</td>\n",
       "    </tr>\n",
       "  </tbody>\n",
       "</table>\n",
       "</div>"
      ],
      "text/plain": [
       "  lambdas         scores\n",
       "4       1  125142.787641\n",
       "5      10  125412.154870\n",
       "3     0.1  125452.540281\n",
       "2    0.01  125497.642843\n",
       "1   0.001  125502.330042\n",
       "0  0.0001  125502.800575"
      ]
     },
     "execution_count": 39,
     "metadata": {},
     "output_type": "execute_result"
    }
   ],
   "source": [
    "#tuning using grid Search\n",
    "alpha = {'ridge_regression__alpha': [.0001, .001, .01, .1, 1, 10]}\n",
    "\n",
    "gscv = GridSearchCV(ridge_pipeline_1, alpha, cv = 5, scoring='neg_mean_squared_error')\n",
    "\n",
    "gscv_fitted = gscv.fit(X, y)\n",
    "\n",
    "mean_test_scores = gscv_fitted.cv_results_['mean_test_score']\n",
    "alphas = gscv_fitted.cv_results_['param_ridge_regression__alpha']\n",
    "\n",
    "# Creating a DataFrame with degrees and scores\n",
    "ridge_model_scores = pd.DataFrame(data = {\"lambdas\": alphas, \"scores\": -(mean_test_scores)}).sort_values(by='scores', ascending=True)\n",
    "ridge_model_scores"
   ]
  },
  {
   "cell_type": "markdown",
   "id": "caad3fda",
   "metadata": {},
   "source": [
    "#### Lasso Top 5"
   ]
  },
  {
   "cell_type": "code",
   "execution_count": 40,
   "id": "256da425",
   "metadata": {},
   "outputs": [],
   "source": [
    "#Model Specification\n",
    "lasso = Lasso()\n",
    "\n",
    "#putting the preprocessor and model spec in the pipeline\n",
    "lasso_pipeline_1 = Pipeline(\n",
    "  [(\"preprocessing\", ct),\n",
    "  (\"lasso_regression\", lasso)]\n",
    ")"
   ]
  },
  {
   "cell_type": "code",
   "execution_count": 41,
   "id": "47d8ebb6",
   "metadata": {},
   "outputs": [
    {
     "data": {
      "text/html": [
       "<div>\n",
       "<style scoped>\n",
       "    .dataframe tbody tr th:only-of-type {\n",
       "        vertical-align: middle;\n",
       "    }\n",
       "\n",
       "    .dataframe tbody tr th {\n",
       "        vertical-align: top;\n",
       "    }\n",
       "\n",
       "    .dataframe thead th {\n",
       "        text-align: right;\n",
       "    }\n",
       "</style>\n",
       "<table border=\"1\" class=\"dataframe\">\n",
       "  <thead>\n",
       "    <tr style=\"text-align: right;\">\n",
       "      <th></th>\n",
       "      <th>lambda</th>\n",
       "      <th>scores</th>\n",
       "    </tr>\n",
       "  </thead>\n",
       "  <tbody>\n",
       "    <tr>\n",
       "      <th>4</th>\n",
       "      <td>1</td>\n",
       "      <td>125290.475028</td>\n",
       "    </tr>\n",
       "    <tr>\n",
       "      <th>3</th>\n",
       "      <td>0.1</td>\n",
       "      <td>125441.167975</td>\n",
       "    </tr>\n",
       "    <tr>\n",
       "      <th>2</th>\n",
       "      <td>0.01</td>\n",
       "      <td>125496.572734</td>\n",
       "    </tr>\n",
       "    <tr>\n",
       "      <th>1</th>\n",
       "      <td>0.001</td>\n",
       "      <td>125502.223429</td>\n",
       "    </tr>\n",
       "    <tr>\n",
       "      <th>0</th>\n",
       "      <td>0.0001</td>\n",
       "      <td>125502.789956</td>\n",
       "    </tr>\n",
       "    <tr>\n",
       "      <th>5</th>\n",
       "      <td>10</td>\n",
       "      <td>127516.045264</td>\n",
       "    </tr>\n",
       "  </tbody>\n",
       "</table>\n",
       "</div>"
      ],
      "text/plain": [
       "   lambda         scores\n",
       "4       1  125290.475028\n",
       "3     0.1  125441.167975\n",
       "2    0.01  125496.572734\n",
       "1   0.001  125502.223429\n",
       "0  0.0001  125502.789956\n",
       "5      10  127516.045264"
      ]
     },
     "execution_count": 41,
     "metadata": {},
     "output_type": "execute_result"
    }
   ],
   "source": [
    "#tuning using grid Search\n",
    "alpha = {'lasso_regression__alpha': [.0001, .001, .01, .1, 1, 10]}\n",
    "\n",
    "gscv = GridSearchCV(lasso_pipeline_1, alpha, cv = 5, scoring='neg_mean_squared_error')\n",
    "\n",
    "gscv_fitted = gscv.fit(X, y)\n",
    "\n",
    "mean_test_scores = gscv_fitted.cv_results_['mean_test_score']\n",
    "alphas = gscv_fitted.cv_results_['param_lasso_regression__alpha']\n",
    "\n",
    "# Creating a DataFrame with degrees and scores\n",
    "lasso_model_scores = pd.DataFrame(data = {\"lambda\": alphas, \"scores\": -(mean_test_scores)}).sort_values(by='scores', ascending=True)\n",
    "lasso_model_scores"
   ]
  },
  {
   "cell_type": "markdown",
   "id": "476fd593",
   "metadata": {},
   "source": [
    "#### Elastic Net Top 5"
   ]
  },
  {
   "cell_type": "code",
   "execution_count": 42,
   "id": "84db7c97",
   "metadata": {},
   "outputs": [],
   "source": [
    "#Model Specification\n",
    "enet = ElasticNet()\n",
    "\n",
    "#putting the preprocessor and model spec in the pipeline\n",
    "enet_pipeline_1 = Pipeline(\n",
    "  [(\"preprocessing\", ct),\n",
    "  (\"enet_regression\", enet)]\n",
    ")"
   ]
  },
  {
   "cell_type": "code",
   "execution_count": 43,
   "id": "b0a1ea49",
   "metadata": {},
   "outputs": [
    {
     "data": {
      "text/html": [
       "<div>\n",
       "<style scoped>\n",
       "    .dataframe tbody tr th:only-of-type {\n",
       "        vertical-align: middle;\n",
       "    }\n",
       "\n",
       "    .dataframe tbody tr th {\n",
       "        vertical-align: top;\n",
       "    }\n",
       "\n",
       "    .dataframe thead th {\n",
       "        text-align: right;\n",
       "    }\n",
       "</style>\n",
       "<table border=\"1\" class=\"dataframe\">\n",
       "  <thead>\n",
       "    <tr style=\"text-align: right;\">\n",
       "      <th></th>\n",
       "      <th>lambda</th>\n",
       "      <th>alpha</th>\n",
       "      <th>scores</th>\n",
       "    </tr>\n",
       "  </thead>\n",
       "  <tbody>\n",
       "    <tr>\n",
       "      <th>23</th>\n",
       "      <td>0.1</td>\n",
       "      <td>0.9</td>\n",
       "      <td>124989.331855</td>\n",
       "    </tr>\n",
       "    <tr>\n",
       "      <th>22</th>\n",
       "      <td>0.1</td>\n",
       "      <td>0.8</td>\n",
       "      <td>124995.951134</td>\n",
       "    </tr>\n",
       "    <tr>\n",
       "      <th>12</th>\n",
       "      <td>0.01</td>\n",
       "      <td>0.1</td>\n",
       "      <td>125002.546541</td>\n",
       "    </tr>\n",
       "    <tr>\n",
       "      <th>13</th>\n",
       "      <td>0.01</td>\n",
       "      <td>0.2</td>\n",
       "      <td>125024.887855</td>\n",
       "    </tr>\n",
       "    <tr>\n",
       "      <th>14</th>\n",
       "      <td>0.01</td>\n",
       "      <td>0.4</td>\n",
       "      <td>125087.604342</td>\n",
       "    </tr>\n",
       "  </tbody>\n",
       "</table>\n",
       "</div>"
      ],
      "text/plain": [
       "   lambda alpha         scores\n",
       "23    0.1   0.9  124989.331855\n",
       "22    0.1   0.8  124995.951134\n",
       "12   0.01   0.1  125002.546541\n",
       "13   0.01   0.2  125024.887855\n",
       "14   0.01   0.4  125087.604342"
      ]
     },
     "execution_count": 43,
     "metadata": {},
     "output_type": "execute_result"
    }
   ],
   "source": [
    "#tuning using grid Search\n",
    "params = {'enet_regression__alpha': [.0001, .001, .01, .1, 1, 10],\n",
    "          'enet_regression__l1_ratio': [.1, .2, .4, .6, .8, .9]}\n",
    "\n",
    "gscv = GridSearchCV(enet_pipeline_1, params, cv = 5, scoring='neg_mean_squared_error')\n",
    "\n",
    "gscv_fitted = gscv.fit(X, y)\n",
    "\n",
    "mean_test_scores = gscv_fitted.cv_results_['mean_test_score']\n",
    "alphas = gscv_fitted.cv_results_['param_enet_regression__alpha']\n",
    "ratios = gscv_fitted.cv_results_['param_enet_regression__l1_ratio']\n",
    "\n",
    "# Creating a DataFrame with degrees and scores\n",
    "enet_model_scores = pd.DataFrame(data = {\"lambda\": alphas, \"alpha\": ratios, \"scores\": -(mean_test_scores)}).sort_values(by='scores', ascending=True)\n",
    "enet_model_scores.head()"
   ]
  },
  {
   "cell_type": "markdown",
   "id": "ba2473f5",
   "metadata": {},
   "source": [
    "When using the top 5 Numerical variables the best model was the Elastic Net model with a lambda of .1 and an alpha of .9."
   ]
  },
  {
   "cell_type": "markdown",
   "id": "de055269",
   "metadata": {},
   "source": [
    "### 3. Using the five best numeric variables and their interactions with the one best categorical variable."
   ]
  },
  {
   "cell_type": "markdown",
   "id": "87ae3100",
   "metadata": {},
   "source": [
    "#### OLS Top 5 & Top Cat"
   ]
  },
  {
   "cell_type": "code",
   "execution_count": 44,
   "id": "8446fa4a",
   "metadata": {},
   "outputs": [],
   "source": [
    "# Setting up the X and Y\n",
    "X = hitters.drop(\"Salary\", axis = 1)\n",
    "y = hitters[\"Salary\"]"
   ]
  },
  {
   "cell_type": "code",
   "execution_count": 45,
   "id": "b4503a86",
   "metadata": {},
   "outputs": [],
   "source": [
    "# top 5 numerical variables and their interactions with the top cat variable\n",
    "ct1 = ColumnTransformer(\n",
    "    transformers=[\n",
    "        (\"standardize\", StandardScaler(), [\"Hits\", \"AtBat\", \"CRuns\", \"CWalks\", \"CRBI\"]),\n",
    "        (\"dummify\", OneHotEncoder(sparse_output=False), [\"Division\"])\n",
    "    ],\n",
    "  remainder = \"drop\"\n",
    ")\n",
    "\n",
    "ct2 = ColumnTransformer(\n",
    "    [\n",
    "     ('interaction1',PolynomialFeatures(interaction_only=True), ['standardize__Hits','dummify__Division_W']),\n",
    "        ('interaction2',PolynomialFeatures(interaction_only=True), ['standardize__AtBat','dummify__Division_W']),\n",
    "        ('interaction3',PolynomialFeatures(interaction_only=True), ['standardize__CRuns','dummify__Division_W']),\n",
    "        ('interaction4',PolynomialFeatures(interaction_only=True), ['standardize__CWalks','dummify__Division_W']),\n",
    "        ('interaction5',PolynomialFeatures(interaction_only=True), ['standardize__CRBI','dummify__Division_W']),\n",
    "        ]\n",
    ")\n",
    "\n",
    "lr_pipeline_1 = Pipeline([\n",
    "    (\"preprocessing_dummify_scale\", ct1),\n",
    "    (\"preprocessing_interaction\", ct2),\n",
    "    (\"linear_regression\", LinearRegression())\n",
    "]).set_output(transform=\"pandas\")"
   ]
  },
  {
   "cell_type": "code",
   "execution_count": 46,
   "id": "49a59b48",
   "metadata": {},
   "outputs": [
    {
     "data": {
      "text/plain": [
       "132054.76013505645"
      ]
     },
     "execution_count": 46,
     "metadata": {},
     "output_type": "execute_result"
    }
   ],
   "source": [
    "#cross validation and metric\n",
    "ols_MSE_scores = cross_val_score(lr_pipeline_1, X, y, cv=5, scoring='neg_mean_squared_error')\n",
    "\n",
    "# Calculate the positive mean of the negative MSE scores\n",
    "ols_mean_MSE = -np.mean(ols_MSE_scores)\n",
    "\n",
    "ols_mean_MSE"
   ]
  },
  {
   "cell_type": "markdown",
   "id": "c9d68c2d",
   "metadata": {},
   "source": [
    "#### Ridge Top 5 & Top Cat"
   ]
  },
  {
   "cell_type": "code",
   "execution_count": 47,
   "id": "700c1ccf",
   "metadata": {},
   "outputs": [],
   "source": [
    "#Model Specification\n",
    "ridge = Ridge()\n",
    "\n",
    "#putting the preprocessor and model spec in the pipeline\n",
    "ridge_pipeline_1 = Pipeline([\n",
    "    (\"preprocessing_dummify_scale\", ct1),\n",
    "    (\"preprocessing_interaction\", ct2),\n",
    "  (\"ridge_regression\", ridge)]\n",
    ")"
   ]
  },
  {
   "cell_type": "code",
   "execution_count": 48,
   "id": "e378e6ad",
   "metadata": {},
   "outputs": [
    {
     "data": {
      "text/html": [
       "<div>\n",
       "<style scoped>\n",
       "    .dataframe tbody tr th:only-of-type {\n",
       "        vertical-align: middle;\n",
       "    }\n",
       "\n",
       "    .dataframe tbody tr th {\n",
       "        vertical-align: top;\n",
       "    }\n",
       "\n",
       "    .dataframe thead th {\n",
       "        text-align: right;\n",
       "    }\n",
       "</style>\n",
       "<table border=\"1\" class=\"dataframe\">\n",
       "  <thead>\n",
       "    <tr style=\"text-align: right;\">\n",
       "      <th></th>\n",
       "      <th>lambdas</th>\n",
       "      <th>scores</th>\n",
       "    </tr>\n",
       "  </thead>\n",
       "  <tbody>\n",
       "    <tr>\n",
       "      <th>5</th>\n",
       "      <td>10</td>\n",
       "      <td>123190.260739</td>\n",
       "    </tr>\n",
       "    <tr>\n",
       "      <th>4</th>\n",
       "      <td>1</td>\n",
       "      <td>127743.182264</td>\n",
       "    </tr>\n",
       "    <tr>\n",
       "      <th>3</th>\n",
       "      <td>0.1</td>\n",
       "      <td>131248.712333</td>\n",
       "    </tr>\n",
       "    <tr>\n",
       "      <th>2</th>\n",
       "      <td>0.01</td>\n",
       "      <td>131966.330136</td>\n",
       "    </tr>\n",
       "    <tr>\n",
       "      <th>1</th>\n",
       "      <td>0.001</td>\n",
       "      <td>132045.830579</td>\n",
       "    </tr>\n",
       "    <tr>\n",
       "      <th>0</th>\n",
       "      <td>0.0001</td>\n",
       "      <td>132053.866305</td>\n",
       "    </tr>\n",
       "  </tbody>\n",
       "</table>\n",
       "</div>"
      ],
      "text/plain": [
       "  lambdas         scores\n",
       "5      10  123190.260739\n",
       "4       1  127743.182264\n",
       "3     0.1  131248.712333\n",
       "2    0.01  131966.330136\n",
       "1   0.001  132045.830579\n",
       "0  0.0001  132053.866305"
      ]
     },
     "execution_count": 48,
     "metadata": {},
     "output_type": "execute_result"
    }
   ],
   "source": [
    "#tuning using grid Search\n",
    "alpha = {'ridge_regression__alpha': [.0001, .001, .01, .1, 1, 10]}\n",
    "\n",
    "gscv = GridSearchCV(ridge_pipeline_1, alpha, cv = 5, scoring='neg_mean_squared_error')\n",
    "\n",
    "gscv_fitted = gscv.fit(X, y)\n",
    "\n",
    "mean_test_scores = gscv_fitted.cv_results_['mean_test_score']\n",
    "alphas = gscv_fitted.cv_results_['param_ridge_regression__alpha']\n",
    "\n",
    "# Creating a DataFrame with degrees and scores\n",
    "ridge_model_scores = pd.DataFrame(data = {\"lambdas\": alphas, \"scores\": -(mean_test_scores)}).sort_values(by='scores', ascending=True)\n",
    "ridge_model_scores"
   ]
  },
  {
   "cell_type": "markdown",
   "id": "cddfc66b",
   "metadata": {},
   "source": [
    "#### LASSO Top 5 & Top Cat"
   ]
  },
  {
   "cell_type": "code",
   "execution_count": 49,
   "id": "d9afb714",
   "metadata": {},
   "outputs": [],
   "source": [
    "#Model Specification\n",
    "lasso = Lasso()\n",
    "\n",
    "#putting the preprocessor and model spec in the pipeline\n",
    "lasso_pipeline_1 = Pipeline([\n",
    "    (\"preprocessing_dummify_scale\", ct1),\n",
    "    (\"preprocessing_interaction\", ct2),\n",
    "  (\"lasso_regression\", lasso)]\n",
    ")"
   ]
  },
  {
   "cell_type": "code",
   "execution_count": 50,
   "id": "f694c0d7",
   "metadata": {},
   "outputs": [
    {
     "name": "stderr",
     "output_type": "stream",
     "text": [
      "C:\\Users\\dhfer\\anaconda3\\Lib\\site-packages\\sklearn\\linear_model\\_coordinate_descent.py:628: ConvergenceWarning: Objective did not converge. You might want to increase the number of iterations, check the scale of the features or consider increasing regularisation. Duality gap: 3.943e+05, tolerance: 4.708e+03\n",
      "C:\\Users\\dhfer\\anaconda3\\Lib\\site-packages\\sklearn\\linear_model\\_coordinate_descent.py:628: ConvergenceWarning: Objective did not converge. You might want to increase the number of iterations, check the scale of the features or consider increasing regularisation. Duality gap: 3.252e+05, tolerance: 3.606e+03\n",
      "C:\\Users\\dhfer\\anaconda3\\Lib\\site-packages\\sklearn\\linear_model\\_coordinate_descent.py:628: ConvergenceWarning: Objective did not converge. You might want to increase the number of iterations, check the scale of the features or consider increasing regularisation. Duality gap: 7.209e+05, tolerance: 4.281e+03\n",
      "C:\\Users\\dhfer\\anaconda3\\Lib\\site-packages\\sklearn\\linear_model\\_coordinate_descent.py:628: ConvergenceWarning: Objective did not converge. You might want to increase the number of iterations, check the scale of the features or consider increasing regularisation. Duality gap: 1.360e+05, tolerance: 4.558e+03\n",
      "C:\\Users\\dhfer\\anaconda3\\Lib\\site-packages\\sklearn\\linear_model\\_coordinate_descent.py:628: ConvergenceWarning: Objective did not converge. You might want to increase the number of iterations, check the scale of the features or consider increasing regularisation. Duality gap: 3.944e+05, tolerance: 4.708e+03\n",
      "C:\\Users\\dhfer\\anaconda3\\Lib\\site-packages\\sklearn\\linear_model\\_coordinate_descent.py:628: ConvergenceWarning: Objective did not converge. You might want to increase the number of iterations, check the scale of the features or consider increasing regularisation. Duality gap: 5.810e+05, tolerance: 3.606e+03\n",
      "C:\\Users\\dhfer\\anaconda3\\Lib\\site-packages\\sklearn\\linear_model\\_coordinate_descent.py:628: ConvergenceWarning: Objective did not converge. You might want to increase the number of iterations, check the scale of the features or consider increasing regularisation. Duality gap: 7.211e+05, tolerance: 4.281e+03\n",
      "C:\\Users\\dhfer\\anaconda3\\Lib\\site-packages\\sklearn\\linear_model\\_coordinate_descent.py:628: ConvergenceWarning: Objective did not converge. You might want to increase the number of iterations, check the scale of the features or consider increasing regularisation. Duality gap: 1.361e+05, tolerance: 4.558e+03\n",
      "C:\\Users\\dhfer\\anaconda3\\Lib\\site-packages\\sklearn\\linear_model\\_coordinate_descent.py:628: ConvergenceWarning: Objective did not converge. You might want to increase the number of iterations, check the scale of the features or consider increasing regularisation. Duality gap: 7.279e+05, tolerance: 4.281e+03\n"
     ]
    },
    {
     "data": {
      "text/html": [
       "<div>\n",
       "<style scoped>\n",
       "    .dataframe tbody tr th:only-of-type {\n",
       "        vertical-align: middle;\n",
       "    }\n",
       "\n",
       "    .dataframe tbody tr th {\n",
       "        vertical-align: top;\n",
       "    }\n",
       "\n",
       "    .dataframe thead th {\n",
       "        text-align: right;\n",
       "    }\n",
       "</style>\n",
       "<table border=\"1\" class=\"dataframe\">\n",
       "  <thead>\n",
       "    <tr style=\"text-align: right;\">\n",
       "      <th></th>\n",
       "      <th>lambda</th>\n",
       "      <th>scores</th>\n",
       "    </tr>\n",
       "  </thead>\n",
       "  <tbody>\n",
       "    <tr>\n",
       "      <th>5</th>\n",
       "      <td>10</td>\n",
       "      <td>124555.483314</td>\n",
       "    </tr>\n",
       "    <tr>\n",
       "      <th>4</th>\n",
       "      <td>1</td>\n",
       "      <td>129664.070309</td>\n",
       "    </tr>\n",
       "    <tr>\n",
       "      <th>3</th>\n",
       "      <td>0.1</td>\n",
       "      <td>131774.810937</td>\n",
       "    </tr>\n",
       "    <tr>\n",
       "      <th>2</th>\n",
       "      <td>0.01</td>\n",
       "      <td>132025.492581</td>\n",
       "    </tr>\n",
       "    <tr>\n",
       "      <th>1</th>\n",
       "      <td>0.001</td>\n",
       "      <td>132052.000802</td>\n",
       "    </tr>\n",
       "    <tr>\n",
       "      <th>0</th>\n",
       "      <td>0.0001</td>\n",
       "      <td>132054.482983</td>\n",
       "    </tr>\n",
       "  </tbody>\n",
       "</table>\n",
       "</div>"
      ],
      "text/plain": [
       "   lambda         scores\n",
       "5      10  124555.483314\n",
       "4       1  129664.070309\n",
       "3     0.1  131774.810937\n",
       "2    0.01  132025.492581\n",
       "1   0.001  132052.000802\n",
       "0  0.0001  132054.482983"
      ]
     },
     "execution_count": 50,
     "metadata": {},
     "output_type": "execute_result"
    }
   ],
   "source": [
    "#tuning using grid Search\n",
    "alpha = {'lasso_regression__alpha': [.0001, .001, .01, .1, 1, 10]}\n",
    "\n",
    "gscv = GridSearchCV(lasso_pipeline_1, alpha, cv = 5, scoring='neg_mean_squared_error')\n",
    "\n",
    "gscv_fitted = gscv.fit(X, y)\n",
    "\n",
    "mean_test_scores = gscv_fitted.cv_results_['mean_test_score']\n",
    "alphas = gscv_fitted.cv_results_['param_lasso_regression__alpha']\n",
    "\n",
    "# Creating a DataFrame with degrees and scores\n",
    "lasso_model_scores = pd.DataFrame(data = {\"lambda\": alphas, \"scores\": -(mean_test_scores)}).sort_values(by='scores', ascending=True)\n",
    "lasso_model_scores"
   ]
  },
  {
   "cell_type": "markdown",
   "id": "41df2f39",
   "metadata": {},
   "source": [
    "#### Elastic Net Top 5 & Top Cat"
   ]
  },
  {
   "cell_type": "code",
   "execution_count": 51,
   "id": "d543177b",
   "metadata": {},
   "outputs": [],
   "source": [
    "#Model Specification\n",
    "enet = ElasticNet()\n",
    "\n",
    "#putting the preprocessor and model spec in the pipeline\n",
    "enet_pipeline_1 = Pipeline([\n",
    "    (\"preprocessing_dummify_scale\", ct1),\n",
    "    (\"preprocessing_interaction\", ct2),\n",
    "  (\"enet_regression\", enet)]\n",
    ")"
   ]
  },
  {
   "cell_type": "code",
   "execution_count": 52,
   "id": "182d224d",
   "metadata": {},
   "outputs": [
    {
     "name": "stderr",
     "output_type": "stream",
     "text": [
      "C:\\Users\\dhfer\\anaconda3\\Lib\\site-packages\\sklearn\\linear_model\\_coordinate_descent.py:628: ConvergenceWarning: Objective did not converge. You might want to increase the number of iterations, check the scale of the features or consider increasing regularisation. Duality gap: 1.162e+07, tolerance: 4.708e+03\n",
      "C:\\Users\\dhfer\\anaconda3\\Lib\\site-packages\\sklearn\\linear_model\\_coordinate_descent.py:628: ConvergenceWarning: Objective did not converge. You might want to increase the number of iterations, check the scale of the features or consider increasing regularisation. Duality gap: 9.782e+06, tolerance: 3.606e+03\n",
      "C:\\Users\\dhfer\\anaconda3\\Lib\\site-packages\\sklearn\\linear_model\\_coordinate_descent.py:628: ConvergenceWarning: Objective did not converge. You might want to increase the number of iterations, check the scale of the features or consider increasing regularisation. Duality gap: 1.103e+07, tolerance: 4.137e+03\n",
      "C:\\Users\\dhfer\\anaconda3\\Lib\\site-packages\\sklearn\\linear_model\\_coordinate_descent.py:628: ConvergenceWarning: Objective did not converge. You might want to increase the number of iterations, check the scale of the features or consider increasing regularisation. Duality gap: 8.376e+06, tolerance: 4.281e+03\n",
      "C:\\Users\\dhfer\\anaconda3\\Lib\\site-packages\\sklearn\\linear_model\\_coordinate_descent.py:628: ConvergenceWarning: Objective did not converge. You might want to increase the number of iterations, check the scale of the features or consider increasing regularisation. Duality gap: 1.146e+07, tolerance: 4.558e+03\n",
      "C:\\Users\\dhfer\\anaconda3\\Lib\\site-packages\\sklearn\\linear_model\\_coordinate_descent.py:628: ConvergenceWarning: Objective did not converge. You might want to increase the number of iterations, check the scale of the features or consider increasing regularisation. Duality gap: 1.159e+07, tolerance: 4.708e+03\n",
      "C:\\Users\\dhfer\\anaconda3\\Lib\\site-packages\\sklearn\\linear_model\\_coordinate_descent.py:628: ConvergenceWarning: Objective did not converge. You might want to increase the number of iterations, check the scale of the features or consider increasing regularisation. Duality gap: 9.744e+06, tolerance: 3.606e+03\n",
      "C:\\Users\\dhfer\\anaconda3\\Lib\\site-packages\\sklearn\\linear_model\\_coordinate_descent.py:628: ConvergenceWarning: Objective did not converge. You might want to increase the number of iterations, check the scale of the features or consider increasing regularisation. Duality gap: 1.098e+07, tolerance: 4.137e+03\n",
      "C:\\Users\\dhfer\\anaconda3\\Lib\\site-packages\\sklearn\\linear_model\\_coordinate_descent.py:628: ConvergenceWarning: Objective did not converge. You might want to increase the number of iterations, check the scale of the features or consider increasing regularisation. Duality gap: 8.360e+06, tolerance: 4.281e+03\n",
      "C:\\Users\\dhfer\\anaconda3\\Lib\\site-packages\\sklearn\\linear_model\\_coordinate_descent.py:628: ConvergenceWarning: Objective did not converge. You might want to increase the number of iterations, check the scale of the features or consider increasing regularisation. Duality gap: 1.143e+07, tolerance: 4.558e+03\n",
      "C:\\Users\\dhfer\\anaconda3\\Lib\\site-packages\\sklearn\\linear_model\\_coordinate_descent.py:628: ConvergenceWarning: Objective did not converge. You might want to increase the number of iterations, check the scale of the features or consider increasing regularisation. Duality gap: 1.151e+07, tolerance: 4.708e+03\n",
      "C:\\Users\\dhfer\\anaconda3\\Lib\\site-packages\\sklearn\\linear_model\\_coordinate_descent.py:628: ConvergenceWarning: Objective did not converge. You might want to increase the number of iterations, check the scale of the features or consider increasing regularisation. Duality gap: 9.632e+06, tolerance: 3.606e+03\n",
      "C:\\Users\\dhfer\\anaconda3\\Lib\\site-packages\\sklearn\\linear_model\\_coordinate_descent.py:628: ConvergenceWarning: Objective did not converge. You might want to increase the number of iterations, check the scale of the features or consider increasing regularisation. Duality gap: 1.082e+07, tolerance: 4.137e+03\n",
      "C:\\Users\\dhfer\\anaconda3\\Lib\\site-packages\\sklearn\\linear_model\\_coordinate_descent.py:628: ConvergenceWarning: Objective did not converge. You might want to increase the number of iterations, check the scale of the features or consider increasing regularisation. Duality gap: 8.316e+06, tolerance: 4.281e+03\n",
      "C:\\Users\\dhfer\\anaconda3\\Lib\\site-packages\\sklearn\\linear_model\\_coordinate_descent.py:628: ConvergenceWarning: Objective did not converge. You might want to increase the number of iterations, check the scale of the features or consider increasing regularisation. Duality gap: 1.135e+07, tolerance: 4.558e+03\n",
      "C:\\Users\\dhfer\\anaconda3\\Lib\\site-packages\\sklearn\\linear_model\\_coordinate_descent.py:628: ConvergenceWarning: Objective did not converge. You might want to increase the number of iterations, check the scale of the features or consider increasing regularisation. Duality gap: 1.136e+07, tolerance: 4.708e+03\n",
      "C:\\Users\\dhfer\\anaconda3\\Lib\\site-packages\\sklearn\\linear_model\\_coordinate_descent.py:628: ConvergenceWarning: Objective did not converge. You might want to increase the number of iterations, check the scale of the features or consider increasing regularisation. Duality gap: 9.425e+06, tolerance: 3.606e+03\n",
      "C:\\Users\\dhfer\\anaconda3\\Lib\\site-packages\\sklearn\\linear_model\\_coordinate_descent.py:628: ConvergenceWarning: Objective did not converge. You might want to increase the number of iterations, check the scale of the features or consider increasing regularisation. Duality gap: 1.053e+07, tolerance: 4.137e+03\n",
      "C:\\Users\\dhfer\\anaconda3\\Lib\\site-packages\\sklearn\\linear_model\\_coordinate_descent.py:628: ConvergenceWarning: Objective did not converge. You might want to increase the number of iterations, check the scale of the features or consider increasing regularisation. Duality gap: 8.235e+06, tolerance: 4.281e+03\n",
      "C:\\Users\\dhfer\\anaconda3\\Lib\\site-packages\\sklearn\\linear_model\\_coordinate_descent.py:628: ConvergenceWarning: Objective did not converge. You might want to increase the number of iterations, check the scale of the features or consider increasing regularisation. Duality gap: 1.120e+07, tolerance: 4.558e+03\n",
      "C:\\Users\\dhfer\\anaconda3\\Lib\\site-packages\\sklearn\\linear_model\\_coordinate_descent.py:628: ConvergenceWarning: Objective did not converge. You might want to increase the number of iterations, check the scale of the features or consider increasing regularisation. Duality gap: 1.097e+07, tolerance: 4.708e+03\n",
      "C:\\Users\\dhfer\\anaconda3\\Lib\\site-packages\\sklearn\\linear_model\\_coordinate_descent.py:628: ConvergenceWarning: Objective did not converge. You might want to increase the number of iterations, check the scale of the features or consider increasing regularisation. Duality gap: 8.830e+06, tolerance: 3.606e+03\n",
      "C:\\Users\\dhfer\\anaconda3\\Lib\\site-packages\\sklearn\\linear_model\\_coordinate_descent.py:628: ConvergenceWarning: Objective did not converge. You might want to increase the number of iterations, check the scale of the features or consider increasing regularisation. Duality gap: 9.699e+06, tolerance: 4.137e+03\n",
      "C:\\Users\\dhfer\\anaconda3\\Lib\\site-packages\\sklearn\\linear_model\\_coordinate_descent.py:628: ConvergenceWarning: Objective did not converge. You might want to increase the number of iterations, check the scale of the features or consider increasing regularisation. Duality gap: 8.007e+06, tolerance: 4.281e+03\n",
      "C:\\Users\\dhfer\\anaconda3\\Lib\\site-packages\\sklearn\\linear_model\\_coordinate_descent.py:628: ConvergenceWarning: Objective did not converge. You might want to increase the number of iterations, check the scale of the features or consider increasing regularisation. Duality gap: 1.082e+07, tolerance: 4.558e+03\n",
      "C:\\Users\\dhfer\\anaconda3\\Lib\\site-packages\\sklearn\\linear_model\\_coordinate_descent.py:628: ConvergenceWarning: Objective did not converge. You might want to increase the number of iterations, check the scale of the features or consider increasing regularisation. Duality gap: 1.026e+07, tolerance: 4.708e+03\n",
      "C:\\Users\\dhfer\\anaconda3\\Lib\\site-packages\\sklearn\\linear_model\\_coordinate_descent.py:628: ConvergenceWarning: Objective did not converge. You might want to increase the number of iterations, check the scale of the features or consider increasing regularisation. Duality gap: 7.615e+06, tolerance: 3.606e+03\n",
      "C:\\Users\\dhfer\\anaconda3\\Lib\\site-packages\\sklearn\\linear_model\\_coordinate_descent.py:628: ConvergenceWarning: Objective did not converge. You might want to increase the number of iterations, check the scale of the features or consider increasing regularisation. Duality gap: 7.981e+06, tolerance: 4.137e+03\n",
      "C:\\Users\\dhfer\\anaconda3\\Lib\\site-packages\\sklearn\\linear_model\\_coordinate_descent.py:628: ConvergenceWarning: Objective did not converge. You might want to increase the number of iterations, check the scale of the features or consider increasing regularisation. Duality gap: 7.582e+06, tolerance: 4.281e+03\n",
      "C:\\Users\\dhfer\\anaconda3\\Lib\\site-packages\\sklearn\\linear_model\\_coordinate_descent.py:628: ConvergenceWarning: Objective did not converge. You might want to increase the number of iterations, check the scale of the features or consider increasing regularisation. Duality gap: 1.013e+07, tolerance: 4.558e+03\n",
      "C:\\Users\\dhfer\\anaconda3\\Lib\\site-packages\\sklearn\\linear_model\\_coordinate_descent.py:628: ConvergenceWarning: Objective did not converge. You might want to increase the number of iterations, check the scale of the features or consider increasing regularisation. Duality gap: 1.133e+07, tolerance: 4.708e+03\n"
     ]
    },
    {
     "name": "stderr",
     "output_type": "stream",
     "text": [
      "C:\\Users\\dhfer\\anaconda3\\Lib\\site-packages\\sklearn\\linear_model\\_coordinate_descent.py:628: ConvergenceWarning: Objective did not converge. You might want to increase the number of iterations, check the scale of the features or consider increasing regularisation. Duality gap: 9.504e+06, tolerance: 3.606e+03\n",
      "C:\\Users\\dhfer\\anaconda3\\Lib\\site-packages\\sklearn\\linear_model\\_coordinate_descent.py:628: ConvergenceWarning: Objective did not converge. You might want to increase the number of iterations, check the scale of the features or consider increasing regularisation. Duality gap: 1.047e+07, tolerance: 4.137e+03\n",
      "C:\\Users\\dhfer\\anaconda3\\Lib\\site-packages\\sklearn\\linear_model\\_coordinate_descent.py:628: ConvergenceWarning: Objective did not converge. You might want to increase the number of iterations, check the scale of the features or consider increasing regularisation. Duality gap: 8.407e+06, tolerance: 4.281e+03\n",
      "C:\\Users\\dhfer\\anaconda3\\Lib\\site-packages\\sklearn\\linear_model\\_coordinate_descent.py:628: ConvergenceWarning: Objective did not converge. You might want to increase the number of iterations, check the scale of the features or consider increasing regularisation. Duality gap: 1.111e+07, tolerance: 4.558e+03\n",
      "C:\\Users\\dhfer\\anaconda3\\Lib\\site-packages\\sklearn\\linear_model\\_coordinate_descent.py:628: ConvergenceWarning: Objective did not converge. You might want to increase the number of iterations, check the scale of the features or consider increasing regularisation. Duality gap: 1.096e+07, tolerance: 4.708e+03\n",
      "C:\\Users\\dhfer\\anaconda3\\Lib\\site-packages\\sklearn\\linear_model\\_coordinate_descent.py:628: ConvergenceWarning: Objective did not converge. You might want to increase the number of iterations, check the scale of the features or consider increasing regularisation. Duality gap: 9.160e+06, tolerance: 3.606e+03\n",
      "C:\\Users\\dhfer\\anaconda3\\Lib\\site-packages\\sklearn\\linear_model\\_coordinate_descent.py:628: ConvergenceWarning: Objective did not converge. You might want to increase the number of iterations, check the scale of the features or consider increasing regularisation. Duality gap: 9.990e+06, tolerance: 4.137e+03\n",
      "C:\\Users\\dhfer\\anaconda3\\Lib\\site-packages\\sklearn\\linear_model\\_coordinate_descent.py:628: ConvergenceWarning: Objective did not converge. You might want to increase the number of iterations, check the scale of the features or consider increasing regularisation. Duality gap: 8.262e+06, tolerance: 4.281e+03\n",
      "C:\\Users\\dhfer\\anaconda3\\Lib\\site-packages\\sklearn\\linear_model\\_coordinate_descent.py:628: ConvergenceWarning: Objective did not converge. You might want to increase the number of iterations, check the scale of the features or consider increasing regularisation. Duality gap: 1.070e+07, tolerance: 4.558e+03\n",
      "C:\\Users\\dhfer\\anaconda3\\Lib\\site-packages\\sklearn\\linear_model\\_coordinate_descent.py:628: ConvergenceWarning: Objective did not converge. You might want to increase the number of iterations, check the scale of the features or consider increasing regularisation. Duality gap: 1.101e+07, tolerance: 4.708e+03\n",
      "C:\\Users\\dhfer\\anaconda3\\Lib\\site-packages\\sklearn\\linear_model\\_coordinate_descent.py:628: ConvergenceWarning: Objective did not converge. You might want to increase the number of iterations, check the scale of the features or consider increasing regularisation. Duality gap: 9.209e+06, tolerance: 3.606e+03\n",
      "C:\\Users\\dhfer\\anaconda3\\Lib\\site-packages\\sklearn\\linear_model\\_coordinate_descent.py:628: ConvergenceWarning: Objective did not converge. You might want to increase the number of iterations, check the scale of the features or consider increasing regularisation. Duality gap: 1.006e+07, tolerance: 4.137e+03\n",
      "C:\\Users\\dhfer\\anaconda3\\Lib\\site-packages\\sklearn\\linear_model\\_coordinate_descent.py:628: ConvergenceWarning: Objective did not converge. You might want to increase the number of iterations, check the scale of the features or consider increasing regularisation. Duality gap: 7.976e+06, tolerance: 4.281e+03\n",
      "C:\\Users\\dhfer\\anaconda3\\Lib\\site-packages\\sklearn\\linear_model\\_coordinate_descent.py:628: ConvergenceWarning: Objective did not converge. You might want to increase the number of iterations, check the scale of the features or consider increasing regularisation. Duality gap: 1.074e+07, tolerance: 4.558e+03\n",
      "C:\\Users\\dhfer\\anaconda3\\Lib\\site-packages\\sklearn\\linear_model\\_coordinate_descent.py:628: ConvergenceWarning: Objective did not converge. You might want to increase the number of iterations, check the scale of the features or consider increasing regularisation. Duality gap: 1.089e+07, tolerance: 4.708e+03\n",
      "C:\\Users\\dhfer\\anaconda3\\Lib\\site-packages\\sklearn\\linear_model\\_coordinate_descent.py:628: ConvergenceWarning: Objective did not converge. You might want to increase the number of iterations, check the scale of the features or consider increasing regularisation. Duality gap: 9.050e+06, tolerance: 3.606e+03\n",
      "C:\\Users\\dhfer\\anaconda3\\Lib\\site-packages\\sklearn\\linear_model\\_coordinate_descent.py:628: ConvergenceWarning: Objective did not converge. You might want to increase the number of iterations, check the scale of the features or consider increasing regularisation. Duality gap: 9.832e+06, tolerance: 4.137e+03\n",
      "C:\\Users\\dhfer\\anaconda3\\Lib\\site-packages\\sklearn\\linear_model\\_coordinate_descent.py:628: ConvergenceWarning: Objective did not converge. You might want to increase the number of iterations, check the scale of the features or consider increasing regularisation. Duality gap: 8.065e+06, tolerance: 4.281e+03\n",
      "C:\\Users\\dhfer\\anaconda3\\Lib\\site-packages\\sklearn\\linear_model\\_coordinate_descent.py:628: ConvergenceWarning: Objective did not converge. You might want to increase the number of iterations, check the scale of the features or consider increasing regularisation. Duality gap: 1.059e+07, tolerance: 4.558e+03\n",
      "C:\\Users\\dhfer\\anaconda3\\Lib\\site-packages\\sklearn\\linear_model\\_coordinate_descent.py:628: ConvergenceWarning: Objective did not converge. You might want to increase the number of iterations, check the scale of the features or consider increasing regularisation. Duality gap: 1.038e+07, tolerance: 4.708e+03\n",
      "C:\\Users\\dhfer\\anaconda3\\Lib\\site-packages\\sklearn\\linear_model\\_coordinate_descent.py:628: ConvergenceWarning: Objective did not converge. You might want to increase the number of iterations, check the scale of the features or consider increasing regularisation. Duality gap: 8.755e+06, tolerance: 3.606e+03\n",
      "C:\\Users\\dhfer\\anaconda3\\Lib\\site-packages\\sklearn\\linear_model\\_coordinate_descent.py:628: ConvergenceWarning: Objective did not converge. You might want to increase the number of iterations, check the scale of the features or consider increasing regularisation. Duality gap: 8.680e+06, tolerance: 4.137e+03\n",
      "C:\\Users\\dhfer\\anaconda3\\Lib\\site-packages\\sklearn\\linear_model\\_coordinate_descent.py:628: ConvergenceWarning: Objective did not converge. You might want to increase the number of iterations, check the scale of the features or consider increasing regularisation. Duality gap: 7.872e+06, tolerance: 4.281e+03\n",
      "C:\\Users\\dhfer\\anaconda3\\Lib\\site-packages\\sklearn\\linear_model\\_coordinate_descent.py:628: ConvergenceWarning: Objective did not converge. You might want to increase the number of iterations, check the scale of the features or consider increasing regularisation. Duality gap: 1.017e+07, tolerance: 4.558e+03\n",
      "C:\\Users\\dhfer\\anaconda3\\Lib\\site-packages\\sklearn\\linear_model\\_coordinate_descent.py:628: ConvergenceWarning: Objective did not converge. You might want to increase the number of iterations, check the scale of the features or consider increasing regularisation. Duality gap: 9.543e+06, tolerance: 4.708e+03\n",
      "C:\\Users\\dhfer\\anaconda3\\Lib\\site-packages\\sklearn\\linear_model\\_coordinate_descent.py:628: ConvergenceWarning: Objective did not converge. You might want to increase the number of iterations, check the scale of the features or consider increasing regularisation. Duality gap: 7.792e+06, tolerance: 3.606e+03\n",
      "C:\\Users\\dhfer\\anaconda3\\Lib\\site-packages\\sklearn\\linear_model\\_coordinate_descent.py:628: ConvergenceWarning: Objective did not converge. You might want to increase the number of iterations, check the scale of the features or consider increasing regularisation. Duality gap: 6.843e+06, tolerance: 4.137e+03\n"
     ]
    },
    {
     "name": "stderr",
     "output_type": "stream",
     "text": [
      "C:\\Users\\dhfer\\anaconda3\\Lib\\site-packages\\sklearn\\linear_model\\_coordinate_descent.py:628: ConvergenceWarning: Objective did not converge. You might want to increase the number of iterations, check the scale of the features or consider increasing regularisation. Duality gap: 7.504e+06, tolerance: 4.281e+03\n",
      "C:\\Users\\dhfer\\anaconda3\\Lib\\site-packages\\sklearn\\linear_model\\_coordinate_descent.py:628: ConvergenceWarning: Objective did not converge. You might want to increase the number of iterations, check the scale of the features or consider increasing regularisation. Duality gap: 9.431e+06, tolerance: 4.558e+03\n",
      "C:\\Users\\dhfer\\anaconda3\\Lib\\site-packages\\sklearn\\linear_model\\_coordinate_descent.py:628: ConvergenceWarning: Objective did not converge. You might want to increase the number of iterations, check the scale of the features or consider increasing regularisation. Duality gap: 1.398e+04, tolerance: 4.281e+03\n",
      "C:\\Users\\dhfer\\anaconda3\\Lib\\site-packages\\sklearn\\linear_model\\_coordinate_descent.py:628: ConvergenceWarning: Objective did not converge. You might want to increase the number of iterations, check the scale of the features or consider increasing regularisation. Duality gap: 2.230e+06, tolerance: 4.708e+03\n",
      "C:\\Users\\dhfer\\anaconda3\\Lib\\site-packages\\sklearn\\linear_model\\_coordinate_descent.py:628: ConvergenceWarning: Objective did not converge. You might want to increase the number of iterations, check the scale of the features or consider increasing regularisation. Duality gap: 1.604e+06, tolerance: 3.606e+03\n",
      "C:\\Users\\dhfer\\anaconda3\\Lib\\site-packages\\sklearn\\linear_model\\_coordinate_descent.py:628: ConvergenceWarning: Objective did not converge. You might want to increase the number of iterations, check the scale of the features or consider increasing regularisation. Duality gap: 8.749e+05, tolerance: 4.137e+03\n",
      "C:\\Users\\dhfer\\anaconda3\\Lib\\site-packages\\sklearn\\linear_model\\_coordinate_descent.py:628: ConvergenceWarning: Objective did not converge. You might want to increase the number of iterations, check the scale of the features or consider increasing regularisation. Duality gap: 2.487e+06, tolerance: 4.281e+03\n",
      "C:\\Users\\dhfer\\anaconda3\\Lib\\site-packages\\sklearn\\linear_model\\_coordinate_descent.py:628: ConvergenceWarning: Objective did not converge. You might want to increase the number of iterations, check the scale of the features or consider increasing regularisation. Duality gap: 1.618e+06, tolerance: 4.558e+03\n"
     ]
    },
    {
     "data": {
      "text/html": [
       "<div>\n",
       "<style scoped>\n",
       "    .dataframe tbody tr th:only-of-type {\n",
       "        vertical-align: middle;\n",
       "    }\n",
       "\n",
       "    .dataframe tbody tr th {\n",
       "        vertical-align: top;\n",
       "    }\n",
       "\n",
       "    .dataframe thead th {\n",
       "        text-align: right;\n",
       "    }\n",
       "</style>\n",
       "<table border=\"1\" class=\"dataframe\">\n",
       "  <thead>\n",
       "    <tr style=\"text-align: right;\">\n",
       "      <th></th>\n",
       "      <th>lambda</th>\n",
       "      <th>alpha</th>\n",
       "      <th>scores</th>\n",
       "    </tr>\n",
       "  </thead>\n",
       "  <tbody>\n",
       "    <tr>\n",
       "      <th>29</th>\n",
       "      <td>1</td>\n",
       "      <td>0.9</td>\n",
       "      <td>122262.059071</td>\n",
       "    </tr>\n",
       "    <tr>\n",
       "      <th>28</th>\n",
       "      <td>1</td>\n",
       "      <td>0.8</td>\n",
       "      <td>122392.825529</td>\n",
       "    </tr>\n",
       "    <tr>\n",
       "      <th>18</th>\n",
       "      <td>0.1</td>\n",
       "      <td>0.1</td>\n",
       "      <td>122490.725956</td>\n",
       "    </tr>\n",
       "    <tr>\n",
       "      <th>19</th>\n",
       "      <td>0.1</td>\n",
       "      <td>0.2</td>\n",
       "      <td>122584.508784</td>\n",
       "    </tr>\n",
       "    <tr>\n",
       "      <th>20</th>\n",
       "      <td>0.1</td>\n",
       "      <td>0.4</td>\n",
       "      <td>122881.323762</td>\n",
       "    </tr>\n",
       "  </tbody>\n",
       "</table>\n",
       "</div>"
      ],
      "text/plain": [
       "   lambda alpha         scores\n",
       "29      1   0.9  122262.059071\n",
       "28      1   0.8  122392.825529\n",
       "18    0.1   0.1  122490.725956\n",
       "19    0.1   0.2  122584.508784\n",
       "20    0.1   0.4  122881.323762"
      ]
     },
     "execution_count": 52,
     "metadata": {},
     "output_type": "execute_result"
    }
   ],
   "source": [
    "#tuning using grid Search\n",
    "params = {'enet_regression__alpha': [.0001, .001, .01, .1, 1, 10],\n",
    "          'enet_regression__l1_ratio': [.1, .2, .4, .6, .8, .9]}\n",
    "\n",
    "gscv = GridSearchCV(enet_pipeline_1, params, cv = 5, scoring='neg_mean_squared_error')\n",
    "\n",
    "gscv_fitted = gscv.fit(X, y)\n",
    "\n",
    "mean_test_scores = gscv_fitted.cv_results_['mean_test_score']\n",
    "alphas = gscv_fitted.cv_results_['param_enet_regression__alpha']\n",
    "ratios = gscv_fitted.cv_results_['param_enet_regression__l1_ratio']\n",
    "\n",
    "# Creating a DataFrame with degrees and scores\n",
    "enet_model_scores = pd.DataFrame(data = {\"lambda\": alphas, \"alpha\": ratios, \"scores\": -(mean_test_scores)}).sort_values(by='scores', ascending=True)\n",
    "enet_model_scores.head()"
   ]
  },
  {
   "cell_type": "markdown",
   "id": "1026a506",
   "metadata": {},
   "source": [
    "### Report which combination of features and model performed best, based on the validation metric of MSE.\n"
   ]
  },
  {
   "cell_type": "markdown",
   "id": "d576d70c",
   "metadata": {},
   "source": [
    "Best Model: Elastic Net\n",
    "\n",
    "Features: \"Hits\", \"AtBat\", \"CRuns\", \"CWalks\", \"CRBI\", [ (\"Division\") * (\"Hits\", \"AtBat\", \"CRuns\", \"CWalks\", \"CRBI\") ]\n",
    "\n",
    "Tuning: Lambda = 1, alpha = .9\n",
    "\n",
    "MSE: 122262.059071"
   ]
  },
  {
   "cell_type": "markdown",
   "id": "10b81661",
   "metadata": {},
   "source": [
    "# Part III. Discussion"
   ]
  },
  {
   "cell_type": "markdown",
   "id": "7366afd0",
   "metadata": {},
   "source": [
    "A. Ridge\n",
    "\n",
    "Compare your Ridge models with your ordinary regression models. How did your coefficients compare? Why does this make sense?"
   ]
  },
  {
   "cell_type": "markdown",
   "id": "6f0b1fe0",
   "metadata": {},
   "source": [
    "- Between the Ordinary regressino models and the Ridge models, the coefficients got smaller, this makes sense as the equation for Ridge regression penalizes the use of many predictor variables. The reason this is happeing and why Ridge works as an advantage is that many predictors introduces overfitting to the training data making the model possibly inadequate for new data. By shrinking the coefficients we introduce bias to the coefficients but it allows for better predictions on new data. "
   ]
  },
  {
   "cell_type": "markdown",
   "id": "fcfb6d34",
   "metadata": {},
   "source": [
    "B. LASSO\n",
    "\n",
    "Compare your LASSO model in I with your three LASSO models in II. Did you get the same lambda results? Why does this make sense? Did you get the same MSEs? Why does this make sense?"
   ]
  },
  {
   "cell_type": "markdown",
   "id": "71d3c564",
   "metadata": {},
   "source": [
    "- Between the first Lasso and the subsequent Lasso models the value of Lambda when tuning changed. This makes sense as with some models the number of variables changed. With the first model it was essential that the model comb through unneccessary variables and shrink them to 0, rendering them unusable for our model. In some of the other models LASSO needed not do that as much and placed greater emphasis on shrinking the coefficients to appropriate levels. In any case the MSE's were always different because while you introduce the possibility of accounting for unnecessary variables, each model differs in its predictive power based on the feature set you start out with, The lambda parameter and LASSO as a whole is simply a method to help with augmenting Feature selection and not the end all be all."
   ]
  },
  {
   "cell_type": "markdown",
   "id": "4fe3f789",
   "metadata": {},
   "source": [
    "C. Elastic Net\n",
    "\n",
    "Compare your MSEs for the Elastic Net models with those for the Ridge and LASSO models. Why does it make sense that Elastic Net always “wins”?"
   ]
  },
  {
   "cell_type": "markdown",
   "id": "6783bdcb",
   "metadata": {},
   "source": [
    "- Elastic combines the best of both worlds when it comes to Ridge and LASSO, it is essentially an equation that utilizes both with different weights placed on either Ridge or Lasso with the alpha parameter. The reason we saw smaller MSE's for all the Elastic Net models in contrast to their counterparts is that they essentially take what would have been the best for either in isolation and then combine that to create an even better model. Where Ridge penalizes the size of the coefficients, and LASSO tries to ommit unnecessary variables, Elastic Net does both. "
   ]
  },
  {
   "cell_type": "markdown",
   "id": "df20bddb",
   "metadata": {},
   "source": [
    "# Part IV: Final Model"
   ]
  },
  {
   "cell_type": "markdown",
   "id": "02421622",
   "metadata": {},
   "source": [
    "## Fit your final best pipeline on the full dataset, and summarize your results in a few short sentences and a plot.\n"
   ]
  },
  {
   "cell_type": "code",
   "execution_count": 53,
   "id": "072ae468",
   "metadata": {},
   "outputs": [],
   "source": [
    "#Model Specification\n",
    "enet = ElasticNet(alpha = 1, l1_ratio=.9)\n",
    "\n",
    "#putting the preprocessor and model spec in the pipeline\n",
    "enet_pipeline_1 = Pipeline([\n",
    "    (\"preprocessing_dummify_scale\", ct1),\n",
    "    (\"preprocessing_interaction\", ct2),\n",
    "  (\"enet_regression\", enet)]\n",
    ")"
   ]
  },
  {
   "cell_type": "code",
   "execution_count": 54,
   "id": "062b4cc3",
   "metadata": {},
   "outputs": [],
   "source": [
    "#fitting on whole dataset\n",
    "enet_best = enet_pipeline_1.fit(X,y)"
   ]
  },
  {
   "cell_type": "code",
   "execution_count": 55,
   "id": "91ef4320",
   "metadata": {},
   "outputs": [],
   "source": [
    "#predicting in order to make a plot\n",
    "enet_best_pred = enet_best.predict(X)"
   ]
  },
  {
   "cell_type": "code",
   "execution_count": 56,
   "id": "cf9b47b7",
   "metadata": {},
   "outputs": [
    {
     "data": {
      "text/html": [
       "<div>\n",
       "<style scoped>\n",
       "    .dataframe tbody tr th:only-of-type {\n",
       "        vertical-align: middle;\n",
       "    }\n",
       "\n",
       "    .dataframe tbody tr th {\n",
       "        vertical-align: top;\n",
       "    }\n",
       "\n",
       "    .dataframe thead th {\n",
       "        text-align: right;\n",
       "    }\n",
       "</style>\n",
       "<table border=\"1\" class=\"dataframe\">\n",
       "  <thead>\n",
       "    <tr style=\"text-align: right;\">\n",
       "      <th></th>\n",
       "      <th>enet_best_features</th>\n",
       "      <th>enet_best_model_coef</th>\n",
       "      <th>Absolute_Coefficient</th>\n",
       "    </tr>\n",
       "  </thead>\n",
       "  <tbody>\n",
       "    <tr>\n",
       "      <th>0</th>\n",
       "      <td>interaction1__1</td>\n",
       "      <td>0.000000</td>\n",
       "      <td>0.000000</td>\n",
       "    </tr>\n",
       "    <tr>\n",
       "      <th>1</th>\n",
       "      <td>interaction1__standardize__Hits</td>\n",
       "      <td>129.613678</td>\n",
       "      <td>129.613678</td>\n",
       "    </tr>\n",
       "    <tr>\n",
       "      <th>2</th>\n",
       "      <td>interaction1__dummify__Division_W</td>\n",
       "      <td>-24.946081</td>\n",
       "      <td>24.946081</td>\n",
       "    </tr>\n",
       "    <tr>\n",
       "      <th>3</th>\n",
       "      <td>interaction1__standardize__Hits dummify__Divis...</td>\n",
       "      <td>-8.181686</td>\n",
       "      <td>8.181686</td>\n",
       "    </tr>\n",
       "    <tr>\n",
       "      <th>4</th>\n",
       "      <td>interaction2__1</td>\n",
       "      <td>0.000000</td>\n",
       "      <td>0.000000</td>\n",
       "    </tr>\n",
       "    <tr>\n",
       "      <th>5</th>\n",
       "      <td>interaction2__standardize__AtBat</td>\n",
       "      <td>1.154120</td>\n",
       "      <td>1.154120</td>\n",
       "    </tr>\n",
       "    <tr>\n",
       "      <th>6</th>\n",
       "      <td>interaction2__dummify__Division_W</td>\n",
       "      <td>-24.944340</td>\n",
       "      <td>24.944340</td>\n",
       "    </tr>\n",
       "    <tr>\n",
       "      <th>7</th>\n",
       "      <td>interaction2__standardize__AtBat dummify__Divi...</td>\n",
       "      <td>-6.546539</td>\n",
       "      <td>6.546539</td>\n",
       "    </tr>\n",
       "    <tr>\n",
       "      <th>8</th>\n",
       "      <td>interaction3__1</td>\n",
       "      <td>0.000000</td>\n",
       "      <td>0.000000</td>\n",
       "    </tr>\n",
       "    <tr>\n",
       "      <th>9</th>\n",
       "      <td>interaction3__standardize__CRuns</td>\n",
       "      <td>96.235678</td>\n",
       "      <td>96.235678</td>\n",
       "    </tr>\n",
       "    <tr>\n",
       "      <th>10</th>\n",
       "      <td>interaction3__dummify__Division_W</td>\n",
       "      <td>-24.949410</td>\n",
       "      <td>24.949410</td>\n",
       "    </tr>\n",
       "    <tr>\n",
       "      <th>11</th>\n",
       "      <td>interaction3__standardize__CRuns dummify__Divi...</td>\n",
       "      <td>-10.638123</td>\n",
       "      <td>10.638123</td>\n",
       "    </tr>\n",
       "    <tr>\n",
       "      <th>12</th>\n",
       "      <td>interaction4__1</td>\n",
       "      <td>0.000000</td>\n",
       "      <td>0.000000</td>\n",
       "    </tr>\n",
       "    <tr>\n",
       "      <th>13</th>\n",
       "      <td>interaction4__standardize__CWalks</td>\n",
       "      <td>27.179438</td>\n",
       "      <td>27.179438</td>\n",
       "    </tr>\n",
       "    <tr>\n",
       "      <th>14</th>\n",
       "      <td>interaction4__dummify__Division_W</td>\n",
       "      <td>-24.951890</td>\n",
       "      <td>24.951890</td>\n",
       "    </tr>\n",
       "    <tr>\n",
       "      <th>15</th>\n",
       "      <td>interaction4__standardize__CWalks dummify__Div...</td>\n",
       "      <td>-48.999194</td>\n",
       "      <td>48.999194</td>\n",
       "    </tr>\n",
       "    <tr>\n",
       "      <th>16</th>\n",
       "      <td>interaction5__1</td>\n",
       "      <td>0.000000</td>\n",
       "      <td>0.000000</td>\n",
       "    </tr>\n",
       "    <tr>\n",
       "      <th>17</th>\n",
       "      <td>interaction5__standardize__CRBI</td>\n",
       "      <td>140.931473</td>\n",
       "      <td>140.931473</td>\n",
       "    </tr>\n",
       "    <tr>\n",
       "      <th>18</th>\n",
       "      <td>interaction5__dummify__Division_W</td>\n",
       "      <td>-24.948808</td>\n",
       "      <td>24.948808</td>\n",
       "    </tr>\n",
       "    <tr>\n",
       "      <th>19</th>\n",
       "      <td>interaction5__standardize__CRBI dummify__Divis...</td>\n",
       "      <td>-25.470511</td>\n",
       "      <td>25.470511</td>\n",
       "    </tr>\n",
       "  </tbody>\n",
       "</table>\n",
       "</div>"
      ],
      "text/plain": [
       "                                   enet_best_features  enet_best_model_coef  \\\n",
       "0                                     interaction1__1              0.000000   \n",
       "1                     interaction1__standardize__Hits            129.613678   \n",
       "2                   interaction1__dummify__Division_W            -24.946081   \n",
       "3   interaction1__standardize__Hits dummify__Divis...             -8.181686   \n",
       "4                                     interaction2__1              0.000000   \n",
       "5                    interaction2__standardize__AtBat              1.154120   \n",
       "6                   interaction2__dummify__Division_W            -24.944340   \n",
       "7   interaction2__standardize__AtBat dummify__Divi...             -6.546539   \n",
       "8                                     interaction3__1              0.000000   \n",
       "9                    interaction3__standardize__CRuns             96.235678   \n",
       "10                  interaction3__dummify__Division_W            -24.949410   \n",
       "11  interaction3__standardize__CRuns dummify__Divi...            -10.638123   \n",
       "12                                    interaction4__1              0.000000   \n",
       "13                  interaction4__standardize__CWalks             27.179438   \n",
       "14                  interaction4__dummify__Division_W            -24.951890   \n",
       "15  interaction4__standardize__CWalks dummify__Div...            -48.999194   \n",
       "16                                    interaction5__1              0.000000   \n",
       "17                    interaction5__standardize__CRBI            140.931473   \n",
       "18                  interaction5__dummify__Division_W            -24.948808   \n",
       "19  interaction5__standardize__CRBI dummify__Divis...            -25.470511   \n",
       "\n",
       "    Absolute_Coefficient  \n",
       "0               0.000000  \n",
       "1             129.613678  \n",
       "2              24.946081  \n",
       "3               8.181686  \n",
       "4               0.000000  \n",
       "5               1.154120  \n",
       "6              24.944340  \n",
       "7               6.546539  \n",
       "8               0.000000  \n",
       "9              96.235678  \n",
       "10             24.949410  \n",
       "11             10.638123  \n",
       "12              0.000000  \n",
       "13             27.179438  \n",
       "14             24.951890  \n",
       "15             48.999194  \n",
       "16              0.000000  \n",
       "17            140.931473  \n",
       "18             24.948808  \n",
       "19             25.470511  "
      ]
     },
     "execution_count": 56,
     "metadata": {},
     "output_type": "execute_result"
    }
   ],
   "source": [
    "enet_best_model_coef = enet_best.named_steps['enet_regression'].coef_\n",
    "enet_best_model_coef\n",
    "# GETTING THE FEATURES OUT\n",
    "enet_best_features = ct2.get_feature_names_out()\n",
    "\n",
    "features_coeff = pd.DataFrame({'enet_best_features': enet_best_features, 'enet_best_model_coef': enet_best_model_coef})\n",
    "# Add a new column 'Absolute_Coefficient' to features_coeff\n",
    "features_coeff['Absolute_Coefficient'] = features_coeff['enet_best_model_coef'].abs()\n",
    "features_coeff"
   ]
  },
  {
   "cell_type": "markdown",
   "id": "36b89c2b",
   "metadata": {},
   "source": [
    "- Hits continues to be the most important coefficient for this model as it corresponds to 129 standard deviation increases to salary with one standard deviation unit increase to hits.\n",
    "- the second most important feature is CRBI with one standard deviation increase resulting in 140 standard deviation increase to salary.\n",
    "- The third most important coefficient is runs with one standard deviation unit increase resulting in 96 standard deviation increases to salary."
   ]
  },
  {
   "cell_type": "code",
   "execution_count": 57,
   "id": "c244fdae",
   "metadata": {},
   "outputs": [
    {
     "data": {
      "image/png": "[encoded data removed]",
      "text/plain": [
       "<Figure size 640x480 with 1 Axes>"
      ]
     },
     "metadata": {
      "image/png": {
       "height": 480,
       "width": 640
      },
      "needs_background": "light"
     },
     "output_type": "display_data"
    },
    {
     "data": {
      "text/plain": [
       "<Figure Size: (640 x 480)>"
      ]
     },
     "execution_count": 57,
     "metadata": {},
     "output_type": "execute_result"
    }
   ],
   "source": [
    "# Calculate residuals\n",
    "residuals = y - enet_best_pred\n",
    "\n",
    "# Create a DataFrame with residuals\n",
    "residual_data = pd.DataFrame({'Predicted Values (Salary)': enet_best_pred, 'Residuals': residuals})\n",
    "\n",
    "# Create the residual plot using ggplot\n",
    "(ggplot(residual_data, aes(x=\"Predicted Values (Salary)\", y=\"Residuals\"))\n",
    "+ geom_point()\n",
    "+ geom_hline(yintercept=0, linetype=\"dashed\", color=\"red\")\n",
    "+ labs(x=\"Predicted Values (Salary)\", y=\"Residuals\")\n",
    "+ theme_minimal()\n",
    "+ ggtitle(\"Elastic Net Final Model Residual Plot\")\n",
    ")"
   ]
  },
  {
   "cell_type": "markdown",
   "id": "1e9657d1",
   "metadata": {},
   "source": [
    "### Conclusion"
   ]
  },
  {
   "cell_type": "markdown",
   "id": "e5d18a3e",
   "metadata": {},
   "source": [
    "After fitting Ordinary least squares, Ridge Regression, LASSO regression, and Elastic Net for all the variables, I found which Model performed the best among those. Elastic Net was the best from those and so I proceeded with Fidning the most meaningful variables from that Model. The method was finding the ones that affected the dependent variable the most. Once I had those most meaningful variables I was also interested in finding the most meaningful categorical variable. I proceed to find the best model in terms of MSE which included or didn't include the categorical variable and its interaction with the best five numerical variables. Finally Elastic Net was the best model and after hypertuning the parameters I found the best parameters to put in the model for the best predictions. In the end, above is a plot of the residuals against the predicted values which allows us to see how well this model can be expected to perform."
   ]
  }
 ],
 "metadata": {
  "kernelspec": {
   "display_name": "Python 3 (ipykernel)",
   "language": "python",
   "name": "python3"
  },
  "language_info": {
   "codemirror_mode": {
    "name": "ipython",
    "version": 3
   },
   "file_extension": ".py",
   "mimetype": "text/x-python",
   "name": "python",
   "nbconvert_exporter": "python",
   "pygments_lexer": "ipython3",
   "version": "3.11.4"
  }
 },
 "nbformat": 4,
 "nbformat_minor": 5
}
